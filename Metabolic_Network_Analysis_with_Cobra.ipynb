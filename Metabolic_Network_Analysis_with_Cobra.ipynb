{
  "cells": [
    {
      "cell_type": "markdown",
      "metadata": {
        "id": "r_zuNe5Qq9vh"
      },
      "source": [
        "# Exercise 1 : Building and Studying a tiny model"
      ]
    },
    {
      "cell_type": "code",
      "source": [
        "pip install cobra"
      ],
      "metadata": {
        "id": "SPrLMWlVrDjX"
      },
      "execution_count": null,
      "outputs": []
    },
    {
      "cell_type": "code",
      "source": [],
      "metadata": {
        "id": "ktCXhZtxrs-o"
      },
      "execution_count": null,
      "outputs": []
    },
    {
      "cell_type": "code",
      "execution_count": null,
      "metadata": {
        "id": "oJAy4-qEq9vj"
      },
      "outputs": [],
      "source": [
        "# Importing the cobra library\n",
        "import cobra\n",
        "from cobra import Model, Reaction, Metabolite\n",
        "\n",
        "# step 1 : Constructing a metabolic model\n",
        "\n",
        "model = Model('example_model')\n",
        "\n",
        "# set of reactions\n",
        "reactions = dict()\n",
        "for i in range(1,8):\n",
        "    reactions[\"R\"+str(i)] = Reaction(\"R\"+str(i))\n",
        "    reactions[\"R\"+str(i)].name = \"R\"+str(i)\n",
        "    reactions[\"R\"+str(i)].subsystem = 'Body'\n",
        "    reactions[\"R\"+str(i)].lower_bound = 0.  # This is the default\n",
        "    reactions[\"R\"+str(i)].upper_bound = 1000.  # This is the default\n",
        "    #reactions[\"R\"+str(i)].objective_coefficient = 0. # this is the default\n",
        "    print (\"Creating R\"+str(i))\n",
        "# set of metabolites\n",
        "A = Metabolite('A', name='A', compartment='c')\n",
        "B = Metabolite('B', name='B', compartment='c')\n",
        "C = Metabolite('C', name='C', compartment='c')\n",
        "D = Metabolite('D', name='D', compartment='c')\n",
        "E = Metabolite('E', name='E', compartment='c')\n",
        "F = Metabolite('F', name='F', compartment='c')\n",
        "\n",
        "reactions[\"R1\"].add_metabolites({A:-2, B:-1, C: 1})\n",
        "reactions[\"R2\"].add_metabolites({B:-1, C:-1, D: 1, E: 2})\n",
        "reactions[\"R3\"].add_metabolites({A:-4, D: 1})\n",
        "reactions[\"R4\"].add_metabolites({A:1})\n",
        "reactions[\"R5\"].add_metabolites({B:1})\n",
        "reactions[\"R6\"].add_metabolites({D: -1})\n",
        "reactions[\"R7\"].add_metabolites({E: -1})\n",
        "\n",
        "\n",
        "reactions[\"R4\"].lower_bound = 1\n",
        "reactions[\"R4\"].upper_bound = 6\n",
        "reactions[\"R7\"].lower_bound = 1\n",
        "reactions[\"R7\"].upper_bound = 4\n",
        "\n",
        "for i in range(1,8):\n",
        "    model.add_reactions([reactions[\"R\"+str(i)]])\n",
        "\n"
      ]
    },
    {
      "cell_type": "code",
      "execution_count": null,
      "metadata": {
        "collapsed": true,
        "id": "G9zC6mzvq9vl"
      },
      "outputs": [],
      "source": [
        "# setting the objective\n",
        "\n",
        "model.reactions.R4.objective_coefficient=1\n",
        "model.reactions.R7.objective_coefficient=1\n",
        "\n",
        "# or alternative solution\n",
        "model.objective= model.reactions.R4.flux_expression + model.reactions.R7.flux_expression"
      ]
    },
    {
      "cell_type": "code",
      "execution_count": null,
      "metadata": {
        "id": "b8T8UVBhq9vm"
      },
      "outputs": [],
      "source": [
        "# Display some informations on the model (part 1)\n",
        "print (\"Number of metabolites = \",len(model.metabolites))\n",
        "print (\"Number of reactions = \",len(model.reactions))"
      ]
    },
    {
      "cell_type": "code",
      "execution_count": null,
      "metadata": {
        "id": "8QQXjmLwq9vn"
      },
      "outputs": [],
      "source": [
        "# Display some informations on the model (part 2)\n",
        "\n",
        "print (\"Reaction 2 is \", model.reactions[2].build_reaction_string(), \"lb = \", model.reactions[2].lower_bound, \"ub = \", model.reactions[2].upper_bound)\n",
        "\n",
        "# Question : Write a loop in order to get all the reactions"
      ]
    },
    {
      "cell_type": "code",
      "execution_count": null,
      "metadata": {
        "id": "1R5D80QCq9vn"
      },
      "outputs": [],
      "source": [
        "# Perform a FBA optimization\n",
        "f=model.optimize()\n",
        "print (\"optimal value=\",f.objective_value)\n",
        "print (\"corresponding fluxes = \",f.fluxes)\n",
        "\n",
        "# a nicer view with pandas library\n",
        "import pandas\n",
        "pandas.DataFrame.from_dict({\"fluxes\": f.fluxes})"
      ]
    },
    {
      "cell_type": "code",
      "source": [
        "model.summary()"
      ],
      "metadata": {
        "id": "_S072U1orWiM"
      },
      "execution_count": null,
      "outputs": []
    },
    {
      "cell_type": "code",
      "source": [
        "model.medium"
      ],
      "metadata": {
        "id": "8xfdZ3UmsZfC"
      },
      "execution_count": null,
      "outputs": []
    },
    {
      "cell_type": "code",
      "execution_count": null,
      "metadata": {
        "collapsed": true,
        "id": "G6F6N4htq9vp"
      },
      "outputs": [],
      "source": [
        "# Question: Get the minimal and maximal values of all the fluxes in the solution space\n"
      ]
    },
    {
      "cell_type": "code",
      "execution_count": null,
      "metadata": {
        "collapsed": true,
        "id": "wz_8T3-Sq9vp"
      },
      "outputs": [],
      "source": [
        "model.objective = model.reactions.R4.flux_expression + model.reactions.R7.flux_expression\n",
        "\n",
        "# Change the model in order to get the min/min values of all the fluxes when V4+V7 is above 90% of its maximal value\n",
        "\n",
        "# compare with\n",
        "import cobra\n",
        "cobra.flux_analysis.flux_variability_analysis(model, fraction_of_optimum=0.9)"
      ]
    },
    {
      "cell_type": "markdown",
      "metadata": {
        "id": "tz4xDawsq9vq"
      },
      "source": [
        "# Exercice 2: a bigger model"
      ]
    },
    {
      "cell_type": "code",
      "execution_count": null,
      "metadata": {
        "collapsed": true,
        "id": "EQX4sbQEq9vr"
      },
      "outputs": [],
      "source": [
        "import pandas\n",
        "\n",
        "# You can use this model from the tutorial\n",
        "model = cobra.io.load_model(\"textbook\") # \"iJO1366\" and \"salmonella\" are also valid arguments\n",
        "\n",
        "# or this one that must be in the home folder\n",
        "#model = cobra.io.read_sbml_model(\"e_coli_core.xml\")"
      ]
    },
    {
      "cell_type": "code",
      "source": [],
      "metadata": {
        "id": "IUMDlMh0tKsk"
      },
      "execution_count": null,
      "outputs": []
    },
    {
      "cell_type": "code",
      "source": [],
      "metadata": {
        "id": "NJcAxJW5tMzt"
      },
      "execution_count": null,
      "outputs": []
    },
    {
      "cell_type": "code",
      "execution_count": null,
      "metadata": {
        "collapsed": true,
        "id": "DU-sAnpKq9vr"
      },
      "outputs": [],
      "source": [
        "# Question: list all the reactions and print their contributions to the objective"
      ]
    },
    {
      "cell_type": "code",
      "execution_count": null,
      "metadata": {
        "collapsed": true,
        "id": "TUr9BKhdq9vs"
      },
      "outputs": [],
      "source": [
        "# Question: how many reactions have a zero 0 for an optimal solution"
      ]
    },
    {
      "cell_type": "code",
      "execution_count": null,
      "metadata": {
        "collapsed": true,
        "id": "6ReSfNFYq9vs"
      },
      "outputs": [],
      "source": []
    },
    {
      "cell_type": "code",
      "execution_count": null,
      "metadata": {
        "collapsed": true,
        "id": "xPiLP-Zxq9vs"
      },
      "outputs": [],
      "source": []
    },
    {
      "cell_type": "code",
      "execution_count": null,
      "metadata": {
        "collapsed": true,
        "id": "G9ePzgxNq9vt"
      },
      "outputs": [],
      "source": []
    },
    {
      "cell_type": "code",
      "execution_count": null,
      "metadata": {
        "collapsed": true,
        "id": "mwkim3rtq9vt"
      },
      "outputs": [],
      "source": []
    },
    {
      "cell_type": "code",
      "execution_count": null,
      "metadata": {
        "collapsed": true,
        "id": "1Aqamjmfq9vt"
      },
      "outputs": [],
      "source": []
    },
    {
      "cell_type": "code",
      "execution_count": null,
      "metadata": {
        "collapsed": true,
        "id": "7koqqc-Bq9vt"
      },
      "outputs": [],
      "source": []
    }
  ],
  "metadata": {
    "kernelspec": {
      "display_name": "Python 3",
      "language": "python",
      "name": "python3"
    },
    "language_info": {
      "codemirror_mode": {
        "name": "ipython",
        "version": 3
      },
      "file_extension": ".py",
      "mimetype": "text/x-python",
      "name": "python",
      "nbconvert_exporter": "python",
      "pygments_lexer": "ipython3",
      "version": "3.6.3"
    },
    "colab": {
      "provenance": []
    }
  },
  "nbformat": 4,
  "nbformat_minor": 0
}