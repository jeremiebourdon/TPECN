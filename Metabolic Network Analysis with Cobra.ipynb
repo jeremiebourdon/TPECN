{
 "cells": [
  {
   "cell_type": "markdown",
   "metadata": {},
   "source": [
    "# Exercise 1 : Building and Studying a tiny model"
   ]
  },
  {
   "cell_type": "code",
   "execution_count": 1,
   "metadata": {},
   "outputs": [
    {
     "name": "stdout",
     "output_type": "stream",
     "text": [
      "Creating R1\n",
      "Creating R2\n",
      "Creating R3\n",
      "Creating R4\n",
      "Creating R5\n",
      "Creating R6\n",
      "Creating R7\n"
     ]
    }
   ],
   "source": [
    "# Importing the cobra library\n",
    "import cobra\n",
    "from cobra import Model, Reaction, Metabolite\n",
    "\n",
    "# step 1 : Constructing a metabolic model\n",
    "\n",
    "model = Model('example_model')\n",
    "\n",
    "# set of reactions\n",
    "reactions = dict()\n",
    "for i in range(1,8):\n",
    "    reactions[\"R\"+str(i)] = Reaction(\"R\"+str(i))\n",
    "    reactions[\"R\"+str(i)].name = \"R\"+str(i)\n",
    "    reactions[\"R\"+str(i)].subsystem = 'Body'\n",
    "    reactions[\"R\"+str(i)].lower_bound = 0.  # This is the default\n",
    "    reactions[\"R\"+str(i)].upper_bound = 1000.  # This is the default\n",
    "    #reactions[\"R\"+str(i)].objective_coefficient = 0. # this is the default\n",
    "    print (\"Creating R\"+str(i))\n",
    "# set of metabolites\n",
    "A = Metabolite('A', name='A', compartment='c')\n",
    "B = Metabolite('B', name='B', compartment='c')\n",
    "C = Metabolite('C', name='C', compartment='c')\n",
    "D = Metabolite('D', name='D', compartment='c')\n",
    "E = Metabolite('E', name='E', compartment='c')\n",
    "F = Metabolite('F', name='F', compartment='c')\n",
    "\n",
    "reactions[\"R1\"].add_metabolites({A:-2, B:-1, C: 1})\n",
    "reactions[\"R2\"].add_metabolites({B:-1, C:-1, D: 1, E: 2})\n",
    "reactions[\"R3\"].add_metabolites({A:-4, D: 1})\n",
    "reactions[\"R4\"].add_metabolites({A:1})\n",
    "reactions[\"R5\"].add_metabolites({B:1})\n",
    "reactions[\"R6\"].add_metabolites({D: -1})\n",
    "reactions[\"R7\"].add_metabolites({E: -1})\n",
    "\n",
    "\n",
    "reactions[\"R4\"].lower_bound = 1\n",
    "reactions[\"R4\"].upper_bound = 6\n",
    "reactions[\"R7\"].lower_bound = 1\n",
    "reactions[\"R7\"].upper_bound = 4\n",
    "\n",
    "for i in range(1,8):\n",
    "    model.add_reaction(reactions[\"R\"+str(i)])\n",
    "\n"
   ]
  },
  {
   "cell_type": "code",
   "execution_count": 4,
   "metadata": {
    "collapsed": true
   },
   "outputs": [],
   "source": [
    "# setting the objective\n",
    "\n",
    "model.reactions.R4.objective_coefficient=1\n",
    "model.reactions.R7.objective_coefficient=1\n",
    "\n",
    "# or alternative solution\n",
    "model.objective= model.reactions.R4.flux_expression + model.reactions.R7.flux_expression"
   ]
  },
  {
   "cell_type": "code",
   "execution_count": 3,
   "metadata": {},
   "outputs": [
    {
     "name": "stdout",
     "output_type": "stream",
     "text": [
      "Number of metabolites =  5\n",
      "Number of reactions =  7\n"
     ]
    }
   ],
   "source": [
    "# Display some informations on the model (part 1)\n",
    "print (\"Number of metabolites = \",len(model.metabolites))\n",
    "print (\"Number of reactions = \",len(model.reactions))"
   ]
  },
  {
   "cell_type": "code",
   "execution_count": 5,
   "metadata": {},
   "outputs": [
    {
     "name": "stdout",
     "output_type": "stream",
     "text": [
      "Reaction 2 is  4 A --> D lb =  0.0 ub =  1000.0\n"
     ]
    }
   ],
   "source": [
    "# Display some informations on the model (part 2)\n",
    "\n",
    "print (\"Reaction 2 is \", model.reactions[2].build_reaction_string(), \"lb = \", model.reactions[2].lower_bound, \"ub = \", model.reactions[2].upper_bound)\n",
    "\n",
    "# Question : Write a loop in order to get all the reactions"
   ]
  },
  {
   "cell_type": "code",
   "execution_count": 6,
   "metadata": {},
   "outputs": [
    {
     "name": "stdout",
     "output_type": "stream",
     "text": [
      "optimal value= 10.0\n",
      "corresponding fluxes =  [ 2.   2.   0.5  6.   4.   2.5  4. ]\n"
     ]
    },
    {
     "data": {
      "text/html": [
       "<div>\n",
       "<style>\n",
       "    .dataframe thead tr:only-child th {\n",
       "        text-align: right;\n",
       "    }\n",
       "\n",
       "    .dataframe thead th {\n",
       "        text-align: left;\n",
       "    }\n",
       "\n",
       "    .dataframe tbody tr th {\n",
       "        vertical-align: top;\n",
       "    }\n",
       "</style>\n",
       "<table border=\"1\" class=\"dataframe\">\n",
       "  <thead>\n",
       "    <tr style=\"text-align: right;\">\n",
       "      <th></th>\n",
       "      <th>fluxes</th>\n",
       "    </tr>\n",
       "  </thead>\n",
       "  <tbody>\n",
       "    <tr>\n",
       "      <th>R1</th>\n",
       "      <td>2.0</td>\n",
       "    </tr>\n",
       "    <tr>\n",
       "      <th>R2</th>\n",
       "      <td>2.0</td>\n",
       "    </tr>\n",
       "    <tr>\n",
       "      <th>R3</th>\n",
       "      <td>0.5</td>\n",
       "    </tr>\n",
       "    <tr>\n",
       "      <th>R4</th>\n",
       "      <td>6.0</td>\n",
       "    </tr>\n",
       "    <tr>\n",
       "      <th>R5</th>\n",
       "      <td>4.0</td>\n",
       "    </tr>\n",
       "    <tr>\n",
       "      <th>R6</th>\n",
       "      <td>2.5</td>\n",
       "    </tr>\n",
       "    <tr>\n",
       "      <th>R7</th>\n",
       "      <td>4.0</td>\n",
       "    </tr>\n",
       "  </tbody>\n",
       "</table>\n",
       "</div>"
      ],
      "text/plain": [
       "    fluxes\n",
       "R1     2.0\n",
       "R2     2.0\n",
       "R3     0.5\n",
       "R4     6.0\n",
       "R5     4.0\n",
       "R6     2.5\n",
       "R7     4.0"
      ]
     },
     "execution_count": 6,
     "metadata": {},
     "output_type": "execute_result"
    }
   ],
   "source": [
    "# Perform a FBA optimization\n",
    "f=model.optimize()\n",
    "print (\"optimal value=\",f.f)\n",
    "print (\"corresponding fluxes = \",f.x)\n",
    "\n",
    "# a nicer view with pandas library\n",
    "import pandas\n",
    "pandas.DataFrame.from_dict({\"fluxes\": f.x_dict})"
   ]
  },
  {
   "cell_type": "code",
   "execution_count": 7,
   "metadata": {
    "collapsed": true
   },
   "outputs": [],
   "source": [
    "# Question: Get the minimal and maximal values of all the fluxes in the solution space\n"
   ]
  },
  {
   "cell_type": "code",
   "execution_count": null,
   "metadata": {
    "collapsed": true
   },
   "outputs": [],
   "source": [
    "model.objective = model.reactions.R4.flux_expression + model.reactions.R7.flux_expression\n",
    "\n",
    "# Change the model in order to get the min/min values of all the fluxes when V4+V7 is above 90% of its maximal value\n",
    "\n",
    "# compare with \n",
    "import cobra\n",
    "cobra.flux_analysis.flux_variability_analysis(model, fraction_of_optimum=0.9)"
   ]
  },
  {
   "cell_type": "markdown",
   "metadata": {},
   "source": [
    "# Exercice 2: a bigger model"
   ]
  },
  {
   "cell_type": "code",
   "execution_count": 8,
   "metadata": {
    "collapsed": true
   },
   "outputs": [],
   "source": [
    "import pandas\n",
    "import cobra.test\n",
    "\n",
    "# You can use this model from the tutorial\n",
    "#model = cobra.test.create_test_model(\"ecoli\")\n",
    "\n",
    "# or this one that must be in the home folder\n",
    "model = cobra.io.read_sbml_model(\"e_coli_core.xml\")"
   ]
  },
  {
   "cell_type": "code",
   "execution_count": 9,
   "metadata": {
    "collapsed": true
   },
   "outputs": [],
   "source": [
    "# Question: list all the reactions and print their contributions to the objective"
   ]
  },
  {
   "cell_type": "code",
   "execution_count": null,
   "metadata": {
    "collapsed": true
   },
   "outputs": [],
   "source": [
    "# Question: how many reactions have a zero 0 for an optimal solution"
   ]
  },
  {
   "cell_type": "code",
   "execution_count": null,
   "metadata": {
    "collapsed": true
   },
   "outputs": [],
   "source": []
  },
  {
   "cell_type": "code",
   "execution_count": null,
   "metadata": {
    "collapsed": true
   },
   "outputs": [],
   "source": []
  },
  {
   "cell_type": "code",
   "execution_count": null,
   "metadata": {
    "collapsed": true
   },
   "outputs": [],
   "source": []
  },
  {
   "cell_type": "code",
   "execution_count": null,
   "metadata": {
    "collapsed": true
   },
   "outputs": [],
   "source": []
  },
  {
   "cell_type": "code",
   "execution_count": null,
   "metadata": {
    "collapsed": true
   },
   "outputs": [],
   "source": []
  },
  {
   "cell_type": "code",
   "execution_count": null,
   "metadata": {
    "collapsed": true
   },
   "outputs": [],
   "source": []
  }
 ],
 "metadata": {
  "kernelspec": {
   "display_name": "Python 3",
   "language": "python",
   "name": "python3"
  },
  "language_info": {
   "codemirror_mode": {
    "name": "ipython",
    "version": 3
   },
   "file_extension": ".py",
   "mimetype": "text/x-python",
   "name": "python",
   "nbconvert_exporter": "python",
   "pygments_lexer": "ipython3",
   "version": "3.6.3"
  }
 },
 "nbformat": 4,
 "nbformat_minor": 2
}
