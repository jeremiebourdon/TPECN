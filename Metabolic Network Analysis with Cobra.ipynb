{
 "cells": [
  {
   "cell_type": "markdown",
   "metadata": {},
   "source": [
    "# Building and Studying a tiny model"
   ]
  },
  {
   "cell_type": "code",
   "execution_count": 2,
   "metadata": {},
   "outputs": [
    {
     "name": "stdout",
     "output_type": "stream",
     "text": [
      "Collecting cobra\n",
      "  Downloading cobra-0.29.0-py2.py3-none-any.whl (1.2 MB)\n",
      "\u001b[2K     \u001b[90m━━━━━━━━━━━━━━━━━━━━━━━━━━━━━━━━━━━━━━━━\u001b[0m \u001b[32m1.2/1.2 MB\u001b[0m \u001b[31m10.7 MB/s\u001b[0m eta \u001b[36m0:00:00\u001b[0m \u001b[36m0:00:01\u001b[0m\n",
      "\u001b[?25hCollecting appdirs~=1.4 (from cobra)\n",
      "  Downloading appdirs-1.4.4-py2.py3-none-any.whl (9.6 kB)\n",
      "Collecting depinfo~=2.2 (from cobra)\n",
      "  Downloading depinfo-2.2.0-py3-none-any.whl (24 kB)\n",
      "Collecting diskcache~=5.0 (from cobra)\n",
      "  Downloading diskcache-5.6.3-py3-none-any.whl (45 kB)\n",
      "\u001b[2K     \u001b[90m━━━━━━━━━━━━━━━━━━━━━━━━━━━━━━━━━━━━━━━━\u001b[0m \u001b[32m45.5/45.5 kB\u001b[0m \u001b[31m5.1 MB/s\u001b[0m eta \u001b[36m0:00:00\u001b[0m\n",
      "\u001b[?25hCollecting future (from cobra)\n",
      "  Using cached future-0.18.3.tar.gz (840 kB)\n",
      "  Installing build dependencies ... \u001b[?25ldone\n",
      "\u001b[?25h  Getting requirements to build wheel ... \u001b[?25ldone\n",
      "\u001b[?25h  Preparing metadata (pyproject.toml) ... \u001b[?25ldone\n",
      "\u001b[?25hCollecting httpx~=0.24 (from cobra)\n",
      "  Downloading httpx-0.25.1-py3-none-any.whl (75 kB)\n",
      "\u001b[2K     \u001b[90m━━━━━━━━━━━━━━━━━━━━━━━━━━━━━━━━━━━━━━━━\u001b[0m \u001b[32m75.0/75.0 kB\u001b[0m \u001b[31m12.2 MB/s\u001b[0m eta \u001b[36m0:00:00\u001b[0m\n",
      "\u001b[?25hCollecting importlib-resources (from cobra)\n",
      "  Downloading importlib_resources-6.1.1-py3-none-any.whl (33 kB)\n",
      "Requirement already satisfied: numpy>=1.13 in /Library/Frameworks/Python.framework/Versions/3.11/lib/python3.11/site-packages (from cobra) (1.25.2)\n",
      "Collecting optlang~=1.8 (from cobra)\n",
      "  Downloading optlang-1.8.1-py2.py3-none-any.whl (142 kB)\n",
      "\u001b[2K     \u001b[90m━━━━━━━━━━━━━━━━━━━━━━━━━━━━━━━━━━━━━━\u001b[0m \u001b[32m142.0/142.0 kB\u001b[0m \u001b[31m14.0 MB/s\u001b[0m eta \u001b[36m0:00:00\u001b[0m\n",
      "\u001b[?25hRequirement already satisfied: pandas<3.0,>=1.0 in /Library/Frameworks/Python.framework/Versions/3.11/lib/python3.11/site-packages (from cobra) (2.1.0)\n",
      "Collecting pydantic>=1.6 (from cobra)\n",
      "  Downloading pydantic-2.4.2-py3-none-any.whl (395 kB)\n",
      "\u001b[2K     \u001b[90m━━━━━━━━━━━━━━━━━━━━━━━━━━━━━━━━━━━━━━\u001b[0m \u001b[32m395.8/395.8 kB\u001b[0m \u001b[31m25.0 MB/s\u001b[0m eta \u001b[36m0:00:00\u001b[0m\n",
      "\u001b[?25hCollecting python-libsbml~=5.19 (from cobra)\n",
      "  Downloading python_libsbml-5.20.2-cp311-cp311-macosx_11_0_arm64.whl (5.7 MB)\n",
      "\u001b[2K     \u001b[90m━━━━━━━━━━━━━━━━━━━━━━━━━━━━━━━━━━━━━━━━\u001b[0m \u001b[32m5.7/5.7 MB\u001b[0m \u001b[31m8.2 MB/s\u001b[0m eta \u001b[36m0:00:00\u001b[0ma \u001b[36m0:00:01\u001b[0mm\n",
      "\u001b[?25hCollecting rich>=8.0 (from cobra)\n",
      "  Downloading rich-13.6.0-py3-none-any.whl (239 kB)\n",
      "\u001b[2K     \u001b[90m━━━━━━━━━━━━━━━━━━━━━━━━━━━━━━━━━━━━━━\u001b[0m \u001b[32m239.8/239.8 kB\u001b[0m \u001b[31m20.3 MB/s\u001b[0m eta \u001b[36m0:00:00\u001b[0m\n",
      "\u001b[?25hCollecting ruamel.yaml~=0.16 (from cobra)\n",
      "  Downloading ruamel.yaml-0.18.5-py3-none-any.whl (116 kB)\n",
      "\u001b[2K     \u001b[90m━━━━━━━━━━━━━━━━━━━━━━━━━━━━━━━━━━━━━━\u001b[0m \u001b[32m116.4/116.4 kB\u001b[0m \u001b[31m15.1 MB/s\u001b[0m eta \u001b[36m0:00:00\u001b[0m\n",
      "\u001b[?25hCollecting swiglpk (from cobra)\n",
      "  Downloading swiglpk-5.0.8-cp311-cp311-macosx_11_0_arm64.whl (737 kB)\n",
      "\u001b[2K     \u001b[90m━━━━━━━━━━━━━━━━━━━━━━━━━━━━━━━━━━━━━━\u001b[0m \u001b[32m737.8/737.8 kB\u001b[0m \u001b[31m25.7 MB/s\u001b[0m eta \u001b[36m0:00:00\u001b[0m\n",
      "\u001b[?25hRequirement already satisfied: anyio in /Library/Frameworks/Python.framework/Versions/3.11/lib/python3.11/site-packages (from httpx~=0.24->cobra) (3.7.1)\n",
      "Requirement already satisfied: certifi in /Library/Frameworks/Python.framework/Versions/3.11/lib/python3.11/site-packages (from httpx~=0.24->cobra) (2022.12.7)\n",
      "Collecting httpcore (from httpx~=0.24->cobra)\n",
      "  Downloading httpcore-1.0.1-py3-none-any.whl (76 kB)\n",
      "\u001b[2K     \u001b[90m━━━━━━━━━━━━━━━━━━━━━━━━━━━━━━━━━━━━━━━━\u001b[0m \u001b[32m76.9/76.9 kB\u001b[0m \u001b[31m11.4 MB/s\u001b[0m eta \u001b[36m0:00:00\u001b[0m\n",
      "\u001b[?25hRequirement already satisfied: idna in /Library/Frameworks/Python.framework/Versions/3.11/lib/python3.11/site-packages (from httpx~=0.24->cobra) (3.4)\n",
      "Requirement already satisfied: sniffio in /Library/Frameworks/Python.framework/Versions/3.11/lib/python3.11/site-packages (from httpx~=0.24->cobra) (1.3.0)\n",
      "Requirement already satisfied: six>=1.9 in /Library/Frameworks/Python.framework/Versions/3.11/lib/python3.11/site-packages (from optlang~=1.8->cobra) (1.16.0)\n",
      "Requirement already satisfied: sympy>=1.12.0 in /Library/Frameworks/Python.framework/Versions/3.11/lib/python3.11/site-packages (from optlang~=1.8->cobra) (1.12)\n",
      "Requirement already satisfied: python-dateutil>=2.8.2 in /Library/Frameworks/Python.framework/Versions/3.11/lib/python3.11/site-packages (from pandas<3.0,>=1.0->cobra) (2.8.2)\n",
      "Requirement already satisfied: pytz>=2020.1 in /Library/Frameworks/Python.framework/Versions/3.11/lib/python3.11/site-packages (from pandas<3.0,>=1.0->cobra) (2023.3)\n",
      "Requirement already satisfied: tzdata>=2022.1 in /Library/Frameworks/Python.framework/Versions/3.11/lib/python3.11/site-packages (from pandas<3.0,>=1.0->cobra) (2023.3)\n",
      "Collecting annotated-types>=0.4.0 (from pydantic>=1.6->cobra)\n",
      "  Downloading annotated_types-0.6.0-py3-none-any.whl (12 kB)\n",
      "Collecting pydantic-core==2.10.1 (from pydantic>=1.6->cobra)\n",
      "  Downloading pydantic_core-2.10.1-cp311-cp311-macosx_11_0_arm64.whl (1.7 MB)\n",
      "\u001b[2K     \u001b[90m━━━━━━━━━━━━━━━━━━━━━━━━━━━━━━━━━━━━━━━━\u001b[0m \u001b[32m1.7/1.7 MB\u001b[0m \u001b[31m23.3 MB/s\u001b[0m eta \u001b[36m0:00:00\u001b[0ma \u001b[36m0:00:01\u001b[0m\n",
      "\u001b[?25hRequirement already satisfied: typing-extensions>=4.6.1 in /Library/Frameworks/Python.framework/Versions/3.11/lib/python3.11/site-packages (from pydantic>=1.6->cobra) (4.8.0)\n",
      "Collecting markdown-it-py>=2.2.0 (from rich>=8.0->cobra)\n",
      "  Downloading markdown_it_py-3.0.0-py3-none-any.whl (87 kB)\n",
      "\u001b[2K     \u001b[90m━━━━━━━━━━━━━━━━━━━━━━━━━━━━━━━━━━━━━━━━\u001b[0m \u001b[32m87.5/87.5 kB\u001b[0m \u001b[31m11.6 MB/s\u001b[0m eta \u001b[36m0:00:00\u001b[0m\n",
      "\u001b[?25hRequirement already satisfied: pygments<3.0.0,>=2.13.0 in /Library/Frameworks/Python.framework/Versions/3.11/lib/python3.11/site-packages (from rich>=8.0->cobra) (2.15.1)\n",
      "Collecting ruamel.yaml.clib>=0.2.7 (from ruamel.yaml~=0.16->cobra)\n",
      "  Downloading ruamel.yaml.clib-0.2.8-cp311-cp311-macosx_13_0_arm64.whl (134 kB)\n",
      "\u001b[2K     \u001b[90m━━━━━━━━━━━━━━━━━━━━━━━━━━━━━━━━━━━━━━\u001b[0m \u001b[32m134.5/134.5 kB\u001b[0m \u001b[31m14.3 MB/s\u001b[0m eta \u001b[36m0:00:00\u001b[0m\n",
      "\u001b[?25hCollecting mdurl~=0.1 (from markdown-it-py>=2.2.0->rich>=8.0->cobra)\n",
      "  Downloading mdurl-0.1.2-py3-none-any.whl (10.0 kB)\n",
      "Requirement already satisfied: mpmath>=0.19 in /Library/Frameworks/Python.framework/Versions/3.11/lib/python3.11/site-packages (from sympy>=1.12.0->optlang~=1.8->cobra) (1.3.0)\n",
      "Collecting h11<0.15,>=0.13 (from httpcore->httpx~=0.24->cobra)\n",
      "  Downloading h11-0.14.0-py3-none-any.whl (58 kB)\n",
      "\u001b[2K     \u001b[90m━━━━━━━━━━━━━━━━━━━━━━━━━━━━━━━━━━━━━━━━\u001b[0m \u001b[32m58.3/58.3 kB\u001b[0m \u001b[31m8.3 MB/s\u001b[0m eta \u001b[36m0:00:00\u001b[0m\n",
      "\u001b[?25hBuilding wheels for collected packages: future\n",
      "  Building wheel for future (pyproject.toml) ... \u001b[?25ldone\n",
      "\u001b[?25h  Created wheel for future: filename=future-0.18.3-py3-none-any.whl size=492024 sha256=5f821601c73a5313849f03f8f7a3eded45676088983fc1f98de5a8e0d7ad8454\n",
      "  Stored in directory: /Users/bourdon-j/Library/Caches/pip/wheels/da/19/ca/9d8c44cd311a955509d7e13da3f0bea42400c469ef825b580b\n",
      "Successfully built future\n",
      "Installing collected packages: swiglpk, python-libsbml, appdirs, ruamel.yaml.clib, pydantic-core, mdurl, importlib-resources, h11, future, diskcache, depinfo, annotated-types, ruamel.yaml, pydantic, optlang, markdown-it-py, httpcore, rich, httpx, cobra\n",
      "Successfully installed annotated-types-0.6.0 appdirs-1.4.4 cobra-0.29.0 depinfo-2.2.0 diskcache-5.6.3 future-0.18.3 h11-0.14.0 httpcore-1.0.1 httpx-0.25.1 importlib-resources-6.1.1 markdown-it-py-3.0.0 mdurl-0.1.2 optlang-1.8.1 pydantic-2.4.2 pydantic-core-2.10.1 python-libsbml-5.20.2 rich-13.6.0 ruamel.yaml-0.18.5 ruamel.yaml.clib-0.2.8 swiglpk-5.0.8\n",
      "\n",
      "\u001b[1m[\u001b[0m\u001b[34;49mnotice\u001b[0m\u001b[1;39;49m]\u001b[0m\u001b[39;49m A new release of pip is available: \u001b[0m\u001b[31;49m23.1.2\u001b[0m\u001b[39;49m -> \u001b[0m\u001b[32;49m23.3.1\u001b[0m\n",
      "\u001b[1m[\u001b[0m\u001b[34;49mnotice\u001b[0m\u001b[1;39;49m]\u001b[0m\u001b[39;49m To update, run: \u001b[0m\u001b[32;49mpip install --upgrade pip\u001b[0m\n"
     ]
    }
   ],
   "source": [
    "import sys\n",
    "\n",
    "!{sys.executable} -m pip install cobra"
   ]
  },
  {
   "cell_type": "markdown",
   "metadata": {},
   "source": [
    "*Exercice 1*\n",
    "\n",
    "Manipulate the following tiny toy example by following the indications in the python notebook file. More specifically, perform an FBA optimization, a FVA, manipulate the model,….\n",
    "~~~~\n",
    "R1 : 2A + B —> C\n",
    "R2 : B + C —> D + 2E\n",
    "R3 : 4A —> D\n",
    "R4 : —> A\n",
    "R5 : —> B\n",
    "R6 : D —>\n",
    "R7 : E —>\n",
    "~~~~\n",
    "Preliminary question : Try to understand how cobra allows a modelization of this model\n",
    "\n",
    "Question 1 : Write the stoichiometric matrix\n",
    "\n",
    "Question 2 : Write the linear system that has to be solved\n",
    "\n",
    "Question 3 : Suppose that we observe V4 = 1 and V7 = 1 and solve the system\n",
    "\n",
    "Question 4 : Suppose that we observe V4 = 1 and V7 = 2 and solve the system\n",
    "\n",
    "Question 5 : All the reactions are irreversible. Plot the solution set. Suppose now that V4>1 and V7>1.\n",
    "\n",
    "Question 6 : One has V4 < 6 and V7<4. What is the solution that maximizes V4+V7 ?"
   ]
  },
  {
   "cell_type": "code",
   "execution_count": 5,
   "metadata": {},
   "outputs": [
    {
     "name": "stdout",
     "output_type": "stream",
     "text": [
      "Creating R1\n",
      "Creating R2\n",
      "Creating R3\n",
      "Creating R4\n",
      "Creating R5\n",
      "Creating R6\n",
      "Creating R7\n"
     ]
    }
   ],
   "source": [
    "# Importing the cobra library\n",
    "import cobra\n",
    "from cobra import Model, Reaction, Metabolite\n",
    "\n",
    "# step 1 : Constructing a metabolic model\n",
    "\n",
    "model = Model('example_model')\n",
    "\n",
    "# set of reactions\n",
    "reactions = dict()\n",
    "for i in range(1,8):\n",
    "    reactions[\"R\"+str(i)] = Reaction(\"R\"+str(i))\n",
    "    reactions[\"R\"+str(i)].name = \"R\"+str(i)\n",
    "    reactions[\"R\"+str(i)].subsystem = 'Body'\n",
    "    reactions[\"R\"+str(i)].lower_bound = 0.  # This is the default\n",
    "    reactions[\"R\"+str(i)].upper_bound = 1000.  # This is the default\n",
    "    #reactions[\"R\"+str(i)].objective_coefficient = 0. # this is the default\n",
    "    print (\"Creating R\"+str(i))\n",
    "# set of metabolites\n",
    "A = Metabolite('A', name='A', compartment='c')\n",
    "B = Metabolite('B', name='B', compartment='c')\n",
    "C = Metabolite('C', name='C', compartment='c')\n",
    "D = Metabolite('D', name='D', compartment='c')\n",
    "E = Metabolite('E', name='E', compartment='c')\n",
    "F = Metabolite('F', name='F', compartment='c')\n",
    "\n",
    "reactions[\"R1\"].add_metabolites({A:-2, B:-1, C: 1})\n",
    "reactions[\"R2\"].add_metabolites({B:-1, C:-1, D: 1, E: 2})\n",
    "reactions[\"R3\"].add_metabolites({A:-4, D: 1})\n",
    "reactions[\"R4\"].add_metabolites({A:1})\n",
    "reactions[\"R5\"].add_metabolites({B:1})\n",
    "reactions[\"R6\"].add_metabolites({D: -1})\n",
    "reactions[\"R7\"].add_metabolites({E: -1})\n",
    "\n",
    "\n",
    "reactions[\"R4\"].lower_bound = 1\n",
    "reactions[\"R4\"].upper_bound = 6\n",
    "reactions[\"R7\"].lower_bound = 1\n",
    "reactions[\"R7\"].upper_bound = 4\n",
    "\n",
    "for i in range(1,8):\n",
    "    model.add_reactions([reactions[\"R\"+str(i)]])\n",
    "\n"
   ]
  },
  {
   "cell_type": "code",
   "execution_count": null,
   "metadata": {},
   "outputs": [],
   "source": [
    "pip install cobra"
   ]
  },
  {
   "cell_type": "code",
   "execution_count": 14,
   "metadata": {},
   "outputs": [],
   "source": [
    "# setting the objective\n",
    "\n",
    "#model.reactions.R4.objective_coefficient=1\n",
    "#model.reactions.R7.objective_coefficient=-1\n",
    "\n",
    "# or alternative solution\n",
    "model.objective= -model.reactions.R4.flux_expression + model.reactions.R7.flux_expression"
   ]
  },
  {
   "cell_type": "code",
   "execution_count": 12,
   "metadata": {},
   "outputs": [
    {
     "name": "stdout",
     "output_type": "stream",
     "text": [
      "Number of metabolites =  5\n",
      "Number of reactions =  7\n"
     ]
    }
   ],
   "source": [
    "# Display some informations on the model (part 1)\n",
    "print (\"Number of metabolites = \",len(model.metabolites))\n",
    "print (\"Number of reactions = \",len(model.reactions))"
   ]
  },
  {
   "cell_type": "code",
   "execution_count": 9,
   "metadata": {},
   "outputs": [
    {
     "name": "stdout",
     "output_type": "stream",
     "text": [
      "Reaction 2 is  4 A --> D lb =  0.0 ub =  1000.0\n"
     ]
    }
   ],
   "source": [
    "# Display some informations on the model (part 2)\n",
    "\n",
    "print (\"Reaction 2 is \", model.reactions[2].build_reaction_string(), \"lb = \", model.reactions[2].lower_bound, \"ub = \", model.reactions[2].upper_bound)\n",
    "\n",
    "# Question : Write a loop in order to get all the reactions"
   ]
  },
  {
   "cell_type": "code",
   "execution_count": 15,
   "metadata": {},
   "outputs": [
    {
     "name": "stdout",
     "output_type": "stream",
     "text": [
      "optimal value= 0.0\n",
      "corresponding fluxes =  R1    0.5\n",
      "R2    0.5\n",
      "R3    0.0\n",
      "R4    1.0\n",
      "R5    1.0\n",
      "R6    0.5\n",
      "R7    1.0\n",
      "Name: fluxes, dtype: float64\n"
     ]
    },
    {
     "data": {
      "text/html": [
       "<div>\n",
       "<style scoped>\n",
       "    .dataframe tbody tr th:only-of-type {\n",
       "        vertical-align: middle;\n",
       "    }\n",
       "\n",
       "    .dataframe tbody tr th {\n",
       "        vertical-align: top;\n",
       "    }\n",
       "\n",
       "    .dataframe thead th {\n",
       "        text-align: right;\n",
       "    }\n",
       "</style>\n",
       "<table border=\"1\" class=\"dataframe\">\n",
       "  <thead>\n",
       "    <tr style=\"text-align: right;\">\n",
       "      <th></th>\n",
       "      <th>fluxes</th>\n",
       "    </tr>\n",
       "  </thead>\n",
       "  <tbody>\n",
       "    <tr>\n",
       "      <th>R1</th>\n",
       "      <td>0.5</td>\n",
       "    </tr>\n",
       "    <tr>\n",
       "      <th>R2</th>\n",
       "      <td>0.5</td>\n",
       "    </tr>\n",
       "    <tr>\n",
       "      <th>R3</th>\n",
       "      <td>0.0</td>\n",
       "    </tr>\n",
       "    <tr>\n",
       "      <th>R4</th>\n",
       "      <td>1.0</td>\n",
       "    </tr>\n",
       "    <tr>\n",
       "      <th>R5</th>\n",
       "      <td>1.0</td>\n",
       "    </tr>\n",
       "    <tr>\n",
       "      <th>R6</th>\n",
       "      <td>0.5</td>\n",
       "    </tr>\n",
       "    <tr>\n",
       "      <th>R7</th>\n",
       "      <td>1.0</td>\n",
       "    </tr>\n",
       "  </tbody>\n",
       "</table>\n",
       "</div>"
      ],
      "text/plain": [
       "    fluxes\n",
       "R1     0.5\n",
       "R2     0.5\n",
       "R3     0.0\n",
       "R4     1.0\n",
       "R5     1.0\n",
       "R6     0.5\n",
       "R7     1.0"
      ]
     },
     "execution_count": 15,
     "metadata": {},
     "output_type": "execute_result"
    }
   ],
   "source": [
    "# Perform a FBA optimization\n",
    "f=model.optimize()\n",
    "print (\"optimal value=\",f.objective_value)\n",
    "print (\"corresponding fluxes = \",f.fluxes)\n",
    "\n",
    "# a nicer view with pandas library\n",
    "import pandas\n",
    "pandas.DataFrame.from_dict({\"fluxes\": f.fluxes})"
   ]
  },
  {
   "cell_type": "code",
   "execution_count": 17,
   "metadata": {},
   "outputs": [
    {
     "name": "stdout",
     "output_type": "stream",
     "text": [
      "-0.5\n"
     ]
    }
   ],
   "source": [
    "model.objective= -model.reactions.R1.flux_expression\n",
    "\n",
    "f=model.optimize()\n",
    "\n",
    "print(f.objective_value)"
   ]
  },
  {
   "cell_type": "code",
   "execution_count": 10,
   "metadata": {},
   "outputs": [],
   "source": [
    "# Question: Get the minimal and maximal values of all the fluxes in the solution space\n"
   ]
  },
  {
   "cell_type": "code",
   "execution_count": 22,
   "metadata": {},
   "outputs": [
    {
     "data": {
      "text/html": [
       "<div>\n",
       "<style scoped>\n",
       "    .dataframe tbody tr th:only-of-type {\n",
       "        vertical-align: middle;\n",
       "    }\n",
       "\n",
       "    .dataframe tbody tr th {\n",
       "        vertical-align: top;\n",
       "    }\n",
       "\n",
       "    .dataframe thead th {\n",
       "        text-align: right;\n",
       "    }\n",
       "</style>\n",
       "<table border=\"1\" class=\"dataframe\">\n",
       "  <thead>\n",
       "    <tr style=\"text-align: right;\">\n",
       "      <th></th>\n",
       "      <th>minimum</th>\n",
       "      <th>maximum</th>\n",
       "    </tr>\n",
       "  </thead>\n",
       "  <tbody>\n",
       "    <tr>\n",
       "      <th>R1</th>\n",
       "      <td>1.50</td>\n",
       "      <td>2.00</td>\n",
       "    </tr>\n",
       "    <tr>\n",
       "      <th>R2</th>\n",
       "      <td>1.50</td>\n",
       "      <td>2.00</td>\n",
       "    </tr>\n",
       "    <tr>\n",
       "      <th>R3</th>\n",
       "      <td>0.25</td>\n",
       "      <td>0.75</td>\n",
       "    </tr>\n",
       "    <tr>\n",
       "      <th>R4</th>\n",
       "      <td>5.00</td>\n",
       "      <td>6.00</td>\n",
       "    </tr>\n",
       "    <tr>\n",
       "      <th>R5</th>\n",
       "      <td>3.00</td>\n",
       "      <td>4.00</td>\n",
       "    </tr>\n",
       "    <tr>\n",
       "      <th>R6</th>\n",
       "      <td>2.25</td>\n",
       "      <td>2.50</td>\n",
       "    </tr>\n",
       "    <tr>\n",
       "      <th>R7</th>\n",
       "      <td>3.00</td>\n",
       "      <td>4.00</td>\n",
       "    </tr>\n",
       "  </tbody>\n",
       "</table>\n",
       "</div>"
      ],
      "text/plain": [
       "    minimum  maximum\n",
       "R1     1.50     2.00\n",
       "R2     1.50     2.00\n",
       "R3     0.25     0.75\n",
       "R4     5.00     6.00\n",
       "R5     3.00     4.00\n",
       "R6     2.25     2.50\n",
       "R7     3.00     4.00"
      ]
     },
     "execution_count": 22,
     "metadata": {},
     "output_type": "execute_result"
    }
   ],
   "source": [
    "model.objective = model.reactions.R4.flux_expression + model.reactions.R7.flux_expression\n",
    "\n",
    "# Change the model in order to get the min/min values of all the fluxes when V4+V7 is above 90% of its maximal value\n",
    "\n",
    "# compare with \n",
    "import cobra\n",
    "cobra.flux_analysis.flux_variability_analysis(model,fraction_of_optimum=0.9)"
   ]
  },
  {
   "cell_type": "markdown",
   "metadata": {},
   "source": [
    "# Study of bigger models"
   ]
  },
  {
   "cell_type": "markdown",
   "metadata": {},
   "source": [
    "*Exercise 2*\n",
    "\n",
    "Get the ecoli_core model of Echerischia coli metabolism in the BiGG model repository here [http://bigg.ucsd.edu](http://bigg.ucsd.edu).\n",
    "\n",
    "1. Execute a for loop on all the reactions and print their id and objective coefficient. Verify that the model possesses an objective and if not, use the model.reactions.get_by_id to set the objective coefficient of the biomass to 1.\n",
    "2. Perform a FBA study. Count the number of reactions having a flux equal to zero.\n",
    "3. Perform a FVA study. Report the reactions having a fixed flux. Classify the reactions into 3 classes: blocked reactions having a fixed flux equal to 0; essential reactions whose flux is either strictly positive or strictly negative; and alternative reactions whose flux can be positive or negative. \n",
    "4. Perform a FVA study at 90%. Same questions as previously.\n",
    "5. Study the effect of glucose disposability (i.e., store in an array the values of the optimal biomass, obtained by a FBA study, when the lower_bound of the ‘EX_glc_D_e’ reaction range from -1000 to 0 and plot the resulting values)\n",
    "6. A reaction is said to be required for biomass iff setting the reaction flux to 0 imply a decrease of the biomass growth by more than 90%. Report all the required reactions.\n",
    "\n"
   ]
  },
  {
   "cell_type": "code",
   "execution_count": 33,
   "metadata": {},
   "outputs": [],
   "source": [
    "import pandas\n",
    "\n",
    "# You can use this model from the tutorial\n",
    "#model = cobra.test.create_test_model(\"ecoli\")\n",
    "\n",
    "# or this one that must be in the home folder\n",
    "model = cobra.io.read_sbml_model(\"e_coli_core.xml\")"
   ]
  },
  {
   "cell_type": "code",
   "execution_count": 26,
   "metadata": {},
   "outputs": [
    {
     "name": "stdout",
     "output_type": "stream",
     "text": [
      "ACALD: acald_c + coa_c + nad_c <=> accoa_c + h_c + nadh_c 0.0\n",
      "ACALDt: acald_e <=> acald_c 0.0\n",
      "ACKr: ac_c + atp_c <=> actp_c + adp_c 0.0\n",
      "ACONTa: cit_c <=> acon_C_c + h2o_c 0.0\n",
      "ACONTb: acon_C_c + h2o_c <=> icit_c 0.0\n",
      "ACt2r: ac_e + h_e <=> ac_c + h_c 0.0\n",
      "ADK1: amp_c + atp_c <=> 2.0 adp_c 0.0\n",
      "AKGDH: akg_c + coa_c + nad_c --> co2_c + nadh_c + succoa_c 0.0\n",
      "AKGt2r: akg_e + h_e <=> akg_c + h_c 0.0\n",
      "ALCD2x: etoh_c + nad_c <=> acald_c + h_c + nadh_c 0.0\n",
      "ATPM: atp_c + h2o_c --> adp_c + h_c + pi_c 0.0\n",
      "ATPS4r: adp_c + 4.0 h_e + pi_c <=> atp_c + h2o_c + 3.0 h_c 0.0\n",
      "BIOMASS_Ecoli_core_w_GAM: 1.496 3pg_c + 3.7478 accoa_c + 59.81 atp_c + 0.361 e4p_c + 0.0709 f6p_c + 0.129 g3p_c + 0.205 g6p_c + 0.2557 gln__L_c + 4.9414 glu__L_c + 59.81 h2o_c + 3.547 nad_c + 13.0279 nadph_c + 1.7867 oaa_c + 0.5191 pep_c + 2.8328 pyr_c + 0.8977 r5p_c --> 59.81 adp_c + 4.1182 akg_c + 3.7478 coa_c + 59.81 h_c + 3.547 nadh_c + 13.0279 nadp_c + 59.81 pi_c 1.0\n",
      "CO2t: co2_e <=> co2_c 0.0\n",
      "CS: accoa_c + h2o_c + oaa_c --> cit_c + coa_c + h_c 0.0\n",
      "CYTBD: 2.0 h_c + 0.5 o2_c + q8h2_c --> h2o_c + 2.0 h_e + q8_c 0.0\n",
      "D_LACt2: h_e + lac__D_e <=> h_c + lac__D_c 0.0\n",
      "ENO: 2pg_c <=> h2o_c + pep_c 0.0\n",
      "ETOHt2r: etoh_e + h_e <=> etoh_c + h_c 0.0\n",
      "EX_ac_e: ac_e -->  0.0\n",
      "EX_acald_e: acald_e -->  0.0\n",
      "EX_akg_e: akg_e -->  0.0\n",
      "EX_co2_e: co2_e <=>  0.0\n",
      "EX_etoh_e: etoh_e -->  0.0\n",
      "EX_for_e: for_e -->  0.0\n",
      "EX_fru_e: fru_e -->  0.0\n",
      "EX_fum_e: fum_e -->  0.0\n",
      "EX_glc__D_e: glc__D_e <=>  0.0\n",
      "EX_gln__L_e: gln__L_e -->  0.0\n",
      "EX_glu__L_e: glu__L_e -->  0.0\n",
      "EX_h_e: h_e <=>  0.0\n",
      "EX_h2o_e: h2o_e <=>  0.0\n",
      "EX_lac__D_e: lac__D_e -->  0.0\n",
      "EX_mal__L_e: mal__L_e -->  0.0\n",
      "EX_nh4_e: nh4_e <=>  0.0\n",
      "EX_o2_e: o2_e <=>  0.0\n",
      "EX_pi_e: pi_e <=>  0.0\n",
      "EX_pyr_e: pyr_e -->  0.0\n",
      "EX_succ_e: succ_e -->  0.0\n",
      "FBA: fdp_c <=> dhap_c + g3p_c 0.0\n",
      "FBP: fdp_c + h2o_c --> f6p_c + pi_c 0.0\n",
      "FORt2: for_e + h_e --> for_c + h_c 0.0\n",
      "FORt: for_e <-- for_c 0.0\n",
      "FRD7: fum_c + q8h2_c --> q8_c + succ_c 0.0\n",
      "FRUpts2: fru_e + pep_c --> f6p_c + pyr_c 0.0\n",
      "FUM: fum_c + h2o_c <=> mal__L_c 0.0\n",
      "FUMt2_2: fum_e + 2.0 h_e --> fum_c + 2.0 h_c 0.0\n",
      "G6PDH2r: g6p_c + nadp_c <=> 6pgl_c + h_c + nadph_c 0.0\n",
      "GAPD: g3p_c + nad_c + pi_c <=> 13dpg_c + h_c + nadh_c 0.0\n",
      "GLCpts: glc__D_e + pep_c --> g6p_c + pyr_c 0.0\n",
      "GLNS: atp_c + glu__L_c + nh4_c --> adp_c + gln__L_c + h_c + pi_c 0.0\n",
      "GLNabc: atp_c + gln__L_e + h2o_c --> adp_c + gln__L_c + h_c + pi_c 0.0\n",
      "GLUDy: glu__L_c + h2o_c + nadp_c <=> akg_c + h_c + nadph_c + nh4_c 0.0\n",
      "GLUN: gln__L_c + h2o_c --> glu__L_c + nh4_c 0.0\n",
      "GLUSy: akg_c + gln__L_c + h_c + nadph_c --> 2.0 glu__L_c + nadp_c 0.0\n",
      "GLUt2r: glu__L_e + h_e <=> glu__L_c + h_c 0.0\n",
      "GND: 6pgc_c + nadp_c --> co2_c + nadph_c + ru5p__D_c 0.0\n",
      "H2Ot: h2o_e <=> h2o_c 0.0\n",
      "ICDHyr: icit_c + nadp_c <=> akg_c + co2_c + nadph_c 0.0\n",
      "ICL: icit_c --> glx_c + succ_c 0.0\n",
      "LDH_D: lac__D_c + nad_c <=> h_c + nadh_c + pyr_c 0.0\n",
      "MALS: accoa_c + glx_c + h2o_c --> coa_c + h_c + mal__L_c 0.0\n",
      "MALt2_2: 2.0 h_e + mal__L_e --> 2.0 h_c + mal__L_c 0.0\n",
      "MDH: mal__L_c + nad_c <=> h_c + nadh_c + oaa_c 0.0\n",
      "ME1: mal__L_c + nad_c --> co2_c + nadh_c + pyr_c 0.0\n",
      "ME2: mal__L_c + nadp_c --> co2_c + nadph_c + pyr_c 0.0\n",
      "NADH16: 4.0 h_c + nadh_c + q8_c --> 3.0 h_e + nad_c + q8h2_c 0.0\n",
      "NADTRHD: nad_c + nadph_c --> nadh_c + nadp_c 0.0\n",
      "NH4t: nh4_e <=> nh4_c 0.0\n",
      "O2t: o2_e <=> o2_c 0.0\n",
      "PDH: coa_c + nad_c + pyr_c --> accoa_c + co2_c + nadh_c 0.0\n",
      "PFK: atp_c + f6p_c --> adp_c + fdp_c + h_c 0.0\n",
      "PFL: coa_c + pyr_c --> accoa_c + for_c 0.0\n",
      "PGI: g6p_c <=> f6p_c 0.0\n",
      "PGK: 3pg_c + atp_c <=> 13dpg_c + adp_c 0.0\n",
      "PGL: 6pgl_c + h2o_c --> 6pgc_c + h_c 0.0\n",
      "PGM: 2pg_c <=> 3pg_c 0.0\n",
      "PIt2r: h_e + pi_e <=> h_c + pi_c 0.0\n",
      "PPC: co2_c + h2o_c + pep_c --> h_c + oaa_c + pi_c 0.0\n",
      "PPCK: atp_c + oaa_c --> adp_c + co2_c + pep_c 0.0\n",
      "PPS: atp_c + h2o_c + pyr_c --> amp_c + 2.0 h_c + pep_c + pi_c 0.0\n",
      "PTAr: accoa_c + pi_c <=> actp_c + coa_c 0.0\n",
      "PYK: adp_c + h_c + pep_c --> atp_c + pyr_c 0.0\n",
      "PYRt2: h_e + pyr_e <=> h_c + pyr_c 0.0\n",
      "RPE: ru5p__D_c <=> xu5p__D_c 0.0\n",
      "RPI: r5p_c <=> ru5p__D_c 0.0\n",
      "SUCCt2_2: 2.0 h_e + succ_e --> 2.0 h_c + succ_c 0.0\n",
      "SUCCt3: h_e + succ_c --> h_c + succ_e 0.0\n",
      "SUCDi: q8_c + succ_c --> fum_c + q8h2_c 0.0\n",
      "SUCOAS: atp_c + coa_c + succ_c <=> adp_c + pi_c + succoa_c 0.0\n",
      "TALA: g3p_c + s7p_c <=> e4p_c + f6p_c 0.0\n",
      "THD2: 2.0 h_e + nadh_c + nadp_c --> 2.0 h_c + nad_c + nadph_c 0.0\n",
      "TKT1: r5p_c + xu5p__D_c <=> g3p_c + s7p_c 0.0\n",
      "TKT2: e4p_c + xu5p__D_c <=> f6p_c + g3p_c 0.0\n",
      "TPI: dhap_c <=> g3p_c 0.0\n"
     ]
    }
   ],
   "source": [
    "# Question: list all the reactions and print their contributions to the objective\n",
    "\n",
    "for r in model.reactions:\n",
    "    print(r, r.objective_coefficient)\n",
    "\n"
   ]
  },
  {
   "cell_type": "code",
   "execution_count": 29,
   "metadata": {},
   "outputs": [
    {
     "name": "stdout",
     "output_type": "stream",
     "text": [
      "0.8739215069684305\n",
      "ACALD     0.000000\n",
      "ACALDt    0.000000\n",
      "ACKr      0.000000\n",
      "ACONTa    6.007250\n",
      "ACONTb    6.007250\n",
      "            ...   \n",
      "TALA      1.496984\n",
      "THD2      0.000000\n",
      "TKT1      1.496984\n",
      "TKT2      1.181498\n",
      "TPI       7.477382\n",
      "Name: fluxes, Length: 95, dtype: float64\n",
      "47\n"
     ]
    }
   ],
   "source": [
    "# Question: how many reactions have a zero 0 for an optimal solution\n",
    "\n",
    "f=model.optimize()\n",
    "\n",
    "print(f.objective_value)\n",
    "print(f.fluxes)\n",
    "\n",
    "n=0\n",
    "for flux in f.fluxes:\n",
    "    if abs(flux)<0.00000000001:\n",
    "        n=n+1\n",
    "        \n",
    "print(n)"
   ]
  },
  {
   "cell_type": "code",
   "execution_count": 52,
   "metadata": {},
   "outputs": [],
   "source": [
    "fva = cobra.flux_analysis.flux_variability_analysis(model,fraction_of_optimum=0)"
   ]
  },
  {
   "cell_type": "code",
   "execution_count": null,
   "metadata": {},
   "outputs": [],
   "source": []
  },
  {
   "cell_type": "code",
   "execution_count": 53,
   "metadata": {},
   "outputs": [
    {
     "name": "stdout",
     "output_type": "stream",
     "text": [
      "8 blocked reactions\n",
      "3 essential reactions\n",
      "84 alternative reactions\n"
     ]
    },
    {
     "name": "stderr",
     "output_type": "stream",
     "text": [
      "/var/folders/vj/0m9n8yhs5xgc6pqz39wn93sw0000gp/T/ipykernel_99568/2768481327.py:5: FutureWarning: Series.__getitem__ treating keys as positions is deprecated. In a future version, integer keys will always be treated as labels (consistent with DataFrame behavior). To access a value by position, use `ser.iloc[pos]`\n",
      "  if abs(fva.get(\"minimum\").get(v))+abs(fva.get(\"maximum\").get(v))<0.000000001:\n",
      "/var/folders/vj/0m9n8yhs5xgc6pqz39wn93sw0000gp/T/ipykernel_99568/2768481327.py:7: FutureWarning: Series.__getitem__ treating keys as positions is deprecated. In a future version, integer keys will always be treated as labels (consistent with DataFrame behavior). To access a value by position, use `ser.iloc[pos]`\n",
      "  if fva.get(\"minimum\").get(v) > 0.0000001:\n",
      "/var/folders/vj/0m9n8yhs5xgc6pqz39wn93sw0000gp/T/ipykernel_99568/2768481327.py:9: FutureWarning: Series.__getitem__ treating keys as positions is deprecated. In a future version, integer keys will always be treated as labels (consistent with DataFrame behavior). To access a value by position, use `ser.iloc[pos]`\n",
      "  if fva.get(\"maximum\").get(v) < -0.0000001:\n"
     ]
    }
   ],
   "source": [
    "blocked=0\n",
    "essential=0\n",
    "\n",
    "for v in range(len(fva[\"minimum\"])):\n",
    "    if abs(fva.get(\"minimum\").get(v))+abs(fva.get(\"maximum\").get(v))<0.000000001:\n",
    "        blocked=blocked+1\n",
    "    if fva.get(\"minimum\").get(v) > 0.0000001:\n",
    "        essential = essential + 1\n",
    "    if fva.get(\"maximum\").get(v) < -0.0000001:\n",
    "        essential = essential + 1\n",
    "print(blocked, \"blocked reactions\")\n",
    "print(essential, \"essential reactions\")\n",
    "print(len(model.reactions)-essential-blocked, \"alternative reactions\")\n",
    "\n",
    "        "
   ]
  },
  {
   "cell_type": "code",
   "execution_count": 63,
   "metadata": {},
   "outputs": [],
   "source": [
    "model.reactions.EX_glc__D_e.lower_bound=-5000"
   ]
  },
  {
   "cell_type": "code",
   "execution_count": 64,
   "metadata": {},
   "outputs": [],
   "source": [
    "fba=model.optimize()"
   ]
  },
  {
   "cell_type": "code",
   "execution_count": 65,
   "metadata": {},
   "outputs": [
    {
     "data": {
      "text/plain": [
       "34.047310037810135"
      ]
     },
     "execution_count": 65,
     "metadata": {},
     "output_type": "execute_result"
    }
   ],
   "source": [
    "fba.objective_value"
   ]
  },
  {
   "cell_type": "code",
   "execution_count": 66,
   "metadata": {},
   "outputs": [
    {
     "data": {
      "text/plain": [
       "-575.2442772222059"
      ]
     },
     "execution_count": 66,
     "metadata": {},
     "output_type": "execute_result"
    }
   ],
   "source": [
    "fba.fluxes.get(\"EX_glc__D_e\")"
   ]
  },
  {
   "cell_type": "code",
   "execution_count": 67,
   "metadata": {},
   "outputs": [
    {
     "name": "stderr",
     "output_type": "stream",
     "text": [
      "/Library/Frameworks/Python.framework/Versions/3.11/lib/python3.11/site-packages/cobra/util/solver.py:554: UserWarning: Solver status is 'infeasible'.\n",
      "  warn(f\"Solver status is '{status}'.\", UserWarning)\n"
     ]
    },
    {
     "data": {
      "image/png": "[encoded data removed]",
      "text/plain": [
       "<Figure size 640x480 with 1 Axes>"
      ]
     },
     "metadata": {},
     "output_type": "display_data"
    }
   ],
   "source": [
    "T=[0]*100\n",
    "\n",
    "for i in range(100):\n",
    "    model.reactions.EX_glc__D_e.lower_bound=i*(-10)\n",
    "    fba=model.optimize()\n",
    "    T[i]=fba.objective_value\n",
    "\n",
    "import matplotlib.pyplot as plt\n",
    "\n",
    "plt.plot(T)\n",
    "plt.show()\n",
    "plt.close()\n"
   ]
  },
  {
   "cell_type": "code",
   "execution_count": 68,
   "metadata": {},
   "outputs": [],
   "source": [
    "model = cobra.io.read_sbml_model(\"e_coli_core.xml\")\n",
    "\n",
    "\n"
   ]
  },
  {
   "cell_type": "code",
   "execution_count": 69,
   "metadata": {},
   "outputs": [],
   "source": [
    "fba_ref = model.optimize()"
   ]
  },
  {
   "cell_type": "code",
   "execution_count": 70,
   "metadata": {},
   "outputs": [
    {
     "name": "stdout",
     "output_type": "stream",
     "text": [
      "0.8739215069684279\n"
     ]
    }
   ],
   "source": [
    "print(fba_ref.objective_value)"
   ]
  },
  {
   "cell_type": "code",
   "execution_count": 72,
   "metadata": {},
   "outputs": [
    {
     "name": "stdout",
     "output_type": "stream",
     "text": [
      "ACALD: acald_c + coa_c + nad_c --> accoa_c + h_c + nadh_c\n",
      "ACALDt: acald_e --> acald_c\n",
      "ACKr: ac_c + atp_c --> actp_c + adp_c\n",
      "ACONTa: cit_c --> acon_C_c + h2o_c\n",
      "ACONTb: acon_C_c + h2o_c --> icit_c\n",
      "ACt2r: ac_e + h_e --> ac_c + h_c\n",
      "ADK1: amp_c + atp_c --> 2.0 adp_c\n",
      "AKGDH: akg_c + coa_c + nad_c --> co2_c + nadh_c + succoa_c\n",
      "AKGt2r: akg_e + h_e --> akg_c + h_c\n",
      "ALCD2x: etoh_c + nad_c --> acald_c + h_c + nadh_c\n",
      "ATPM: atp_c + h2o_c --> adp_c + h_c + pi_c\n",
      "ATPS4r: adp_c + 4.0 h_e + pi_c --> atp_c + h2o_c + 3.0 h_c\n",
      "BIOMASS_Ecoli_core_w_GAM: 1.496 3pg_c + 3.7478 accoa_c + 59.81 atp_c + 0.361 e4p_c + 0.0709 f6p_c + 0.129 g3p_c + 0.205 g6p_c + 0.2557 gln__L_c + 4.9414 glu__L_c + 59.81 h2o_c + 3.547 nad_c + 13.0279 nadph_c + 1.7867 oaa_c + 0.5191 pep_c + 2.8328 pyr_c + 0.8977 r5p_c --> 59.81 adp_c + 4.1182 akg_c + 3.7478 coa_c + 59.81 h_c + 3.547 nadh_c + 13.0279 nadp_c + 59.81 pi_c\n",
      "CO2t: co2_e --> co2_c\n",
      "CS: accoa_c + h2o_c + oaa_c --> cit_c + coa_c + h_c\n",
      "CYTBD: 2.0 h_c + 0.5 o2_c + q8h2_c --> h2o_c + 2.0 h_e + q8_c\n",
      "D_LACt2: h_e + lac__D_e --> h_c + lac__D_c\n",
      "ENO: 2pg_c --> h2o_c + pep_c\n",
      "ETOHt2r: etoh_e + h_e --> etoh_c + h_c\n",
      "EX_ac_e: ac_e --> \n",
      "EX_acald_e: acald_e --> \n",
      "EX_akg_e: akg_e --> \n",
      "EX_co2_e: co2_e --> \n",
      "EX_etoh_e: etoh_e --> \n",
      "EX_for_e: for_e --> \n",
      "EX_fru_e: fru_e --> \n",
      "EX_fum_e: fum_e --> \n",
      "EX_glc__D_e: glc__D_e --> \n",
      "EX_gln__L_e: gln__L_e --> \n",
      "EX_glu__L_e: glu__L_e --> \n",
      "EX_h_e: h_e --> \n",
      "EX_h2o_e: h2o_e --> \n",
      "EX_lac__D_e: lac__D_e --> \n",
      "EX_mal__L_e: mal__L_e --> \n",
      "EX_nh4_e: nh4_e --> \n",
      "EX_o2_e: o2_e --> \n",
      "EX_pi_e: pi_e --> \n",
      "EX_pyr_e: pyr_e --> \n",
      "EX_succ_e: succ_e --> \n",
      "FBA: fdp_c --> dhap_c + g3p_c\n",
      "FBP: fdp_c + h2o_c --> f6p_c + pi_c\n",
      "FORt2: for_e + h_e --> for_c + h_c\n",
      "FORt: for_e --> for_c\n",
      "FRD7: fum_c + q8h2_c --> q8_c + succ_c\n",
      "FRUpts2: fru_e + pep_c --> f6p_c + pyr_c\n",
      "FUM: fum_c + h2o_c --> mal__L_c\n",
      "FUMt2_2: fum_e + 2.0 h_e --> fum_c + 2.0 h_c\n",
      "G6PDH2r: g6p_c + nadp_c --> 6pgl_c + h_c + nadph_c\n",
      "GAPD: g3p_c + nad_c + pi_c --> 13dpg_c + h_c + nadh_c\n",
      "GLCpts: glc__D_e + pep_c --> g6p_c + pyr_c\n",
      "GLNS: atp_c + glu__L_c + nh4_c --> adp_c + gln__L_c + h_c + pi_c\n",
      "GLNabc: atp_c + gln__L_e + h2o_c --> adp_c + gln__L_c + h_c + pi_c\n",
      "GLUDy: glu__L_c + h2o_c + nadp_c --> akg_c + h_c + nadph_c + nh4_c\n",
      "GLUN: gln__L_c + h2o_c --> glu__L_c + nh4_c\n",
      "GLUSy: akg_c + gln__L_c + h_c + nadph_c --> 2.0 glu__L_c + nadp_c\n",
      "GLUt2r: glu__L_e + h_e --> glu__L_c + h_c\n",
      "GND: 6pgc_c + nadp_c --> co2_c + nadph_c + ru5p__D_c\n",
      "H2Ot: h2o_e --> h2o_c\n",
      "ICDHyr: icit_c + nadp_c --> akg_c + co2_c + nadph_c\n",
      "ICL: icit_c --> glx_c + succ_c\n",
      "LDH_D: lac__D_c + nad_c --> h_c + nadh_c + pyr_c\n",
      "MALS: accoa_c + glx_c + h2o_c --> coa_c + h_c + mal__L_c\n",
      "MALt2_2: 2.0 h_e + mal__L_e --> 2.0 h_c + mal__L_c\n",
      "MDH: mal__L_c + nad_c --> h_c + nadh_c + oaa_c\n",
      "ME1: mal__L_c + nad_c --> co2_c + nadh_c + pyr_c\n",
      "ME2: mal__L_c + nadp_c --> co2_c + nadph_c + pyr_c\n",
      "NADH16: 4.0 h_c + nadh_c + q8_c --> 3.0 h_e + nad_c + q8h2_c\n",
      "NADTRHD: nad_c + nadph_c --> nadh_c + nadp_c\n",
      "NH4t: nh4_e --> nh4_c\n",
      "O2t: o2_e --> o2_c\n",
      "PDH: coa_c + nad_c + pyr_c --> accoa_c + co2_c + nadh_c\n",
      "PFK: atp_c + f6p_c --> adp_c + fdp_c + h_c\n",
      "PFL: coa_c + pyr_c --> accoa_c + for_c\n",
      "PGI: g6p_c --> f6p_c\n",
      "PGK: 3pg_c + atp_c --> 13dpg_c + adp_c\n",
      "PGL: 6pgl_c + h2o_c --> 6pgc_c + h_c\n",
      "PGM: 2pg_c --> 3pg_c\n",
      "PIt2r: h_e + pi_e --> h_c + pi_c\n",
      "PPC: co2_c + h2o_c + pep_c --> h_c + oaa_c + pi_c\n",
      "PPCK: atp_c + oaa_c --> adp_c + co2_c + pep_c\n",
      "PPS: atp_c + h2o_c + pyr_c --> amp_c + 2.0 h_c + pep_c + pi_c\n",
      "PTAr: accoa_c + pi_c --> actp_c + coa_c\n",
      "PYK: adp_c + h_c + pep_c --> atp_c + pyr_c\n",
      "PYRt2: h_e + pyr_e --> h_c + pyr_c\n",
      "RPE: ru5p__D_c --> xu5p__D_c\n",
      "RPI: r5p_c --> ru5p__D_c\n",
      "SUCCt2_2: 2.0 h_e + succ_e --> 2.0 h_c + succ_c\n",
      "SUCCt3: h_e + succ_c --> h_c + succ_e\n",
      "SUCDi: q8_c + succ_c --> fum_c + q8h2_c\n",
      "SUCOAS: atp_c + coa_c + succ_c --> adp_c + pi_c + succoa_c\n",
      "TALA: g3p_c + s7p_c --> e4p_c + f6p_c\n",
      "THD2: 2.0 h_e + nadh_c + nadp_c --> 2.0 h_c + nad_c + nadph_c\n",
      "TKT1: r5p_c + xu5p__D_c --> g3p_c + s7p_c\n",
      "TKT2: e4p_c + xu5p__D_c --> f6p_c + g3p_c\n",
      "TPI: dhap_c --> g3p_c\n"
     ]
    }
   ],
   "source": [
    "for r in model.reactions:\n",
    "    tmp_lb = r.lower_bound\n",
    "    tmp_ub = r.upper_bound\n",
    "    r.lower_bound = 0\n",
    "    r.upper_bound = 0\n",
    "    fba = model.optimize()\n",
    "    if fba.objective_value < 0.9*fba_ref.objective_value:\n",
    "        print(r)\n",
    "    r.lower_bound = tmp_lb\n",
    "    r.upper_bound = tmp_ub\n",
    "\n",
    "    \n",
    "for r in model.reactions:\n",
    "    copie = model.copy()\n",
    "    r_copie = copie.reactions.get_by_id(r.id)\n",
    "    r_copie.lower_bound = 0\n",
    "    r_copie.upper_bound = 0\n",
    "    fba = copie.optimize()\n",
    "    if fba.objective_value < 0.9*fba_ref.objective_value:\n",
    "        print(r_copie)\n",
    "\n",
    "\n",
    "    \n",
    "\n",
    "\n",
    "\n",
    "\n",
    "\n"
   ]
  },
  {
   "cell_type": "code",
   "execution_count": 79,
   "metadata": {},
   "outputs": [
    {
     "name": "stdout",
     "output_type": "stream",
     "text": [
      "ACALD | b0351 or b1241\n",
      "ACALDt | s0001\n",
      "ACKr | b2296 or b3115 or b1849\n",
      "ACONTa | b0118 or b1276\n",
      "ACONTb | b0118 or b1276\n",
      "ACt2r | \n",
      "ADK1 | b0474\n",
      "AKGDH | b0726 and b0116 and b0727\n",
      "AKGt2r | b2587\n",
      "ALCD2x | b1478 or b0356 or b1241\n",
      "ATPM | \n",
      "ATPS4r | (b3738 and b3736 and b3737 and b3735 and b3733 and b3731 and b3732 and b3734) or (b3734 and b3732 and b3731 and b3733 and b3735 and b3737 and b3736 and b3738 and b3739)\n",
      "BIOMASS_Ecoli_core_w_GAM | \n",
      "CO2t | s0001\n",
      "CS | b0720\n",
      "CYTBD | (b0978 and b0979) or (b0733 and b0734)\n",
      "D_LACt2 | b2975 or b3603\n",
      "ENO | b2779\n",
      "ETOHt2r | \n",
      "EX_ac_e | \n",
      "EX_acald_e | \n",
      "EX_akg_e | \n",
      "EX_co2_e | \n",
      "EX_etoh_e | \n",
      "EX_for_e | \n",
      "EX_fru_e | \n",
      "EX_fum_e | \n",
      "EX_glc__D_e | \n",
      "EX_gln__L_e | \n",
      "EX_glu__L_e | \n",
      "EX_h_e | \n",
      "EX_h2o_e | \n",
      "EX_lac__D_e | \n",
      "EX_mal__L_e | \n",
      "EX_nh4_e | \n",
      "EX_o2_e | \n",
      "EX_pi_e | \n",
      "EX_pyr_e | \n",
      "EX_succ_e | \n",
      "FBA | b1773 or b2097 or b2925\n",
      "FBP | b3925 or b4232\n",
      "FORt2 | b0904 or b2492\n",
      "FORt | b0904 or b2492\n",
      "FRD7 | b4153 and b4151 and b4152 and b4154\n",
      "FRUpts2 | b2415 and b1818 and b1817 and b1819 and b2416\n",
      "FUM | b4122 or b1612 or b1611\n",
      "FUMt2_2 | b3528\n",
      "G6PDH2r | b1852\n",
      "GAPD | b1779\n",
      "GLCpts | (b2415 and b1818 and b1817 and b1819 and b2416) or (b2415 and b2417 and b1101 and b2416) or (b2415 and b2417 and b1621 and b2416)\n",
      "GLNS | b3870 or b1297\n",
      "GLNabc | b0810 and b0811 and b0809\n",
      "GLUDy | b1761\n",
      "GLUN | b0485 or b1812 or b1524\n",
      "GLUSy | b3212 and b3213\n",
      "GLUt2r | b4077\n",
      "GND | b2029\n",
      "H2Ot | b0875 or s0001\n",
      "ICDHyr | b1136\n",
      "ICL | b4015\n",
      "LDH_D | b2133 or b1380\n",
      "MALS | b4014 or b2976\n",
      "MALt2_2 | b3528\n",
      "MDH | b3236\n",
      "ME1 | b1479\n",
      "ME2 | b2463\n",
      "NADH16 | b2287 and b2285 and b2283 and b2281 and b2279 and b2277 and b2276 and b2278 and b2280 and b2282 and b2284 and b2286 and b2288\n",
      "NADTRHD | b3962 or (b1602 and b1603)\n",
      "NH4t | s0001 or b0451\n",
      "O2t | s0001\n",
      "PDH | b0115 and b0114 and b0116\n",
      "PFK | b3916 or b1723\n",
      "PFL | (b0902 and b3114) or (b0903 and b0902 and b2579) or (b0902 and b0903) or (b3951 and b3952)\n",
      "PGI | b4025\n",
      "PGK | b2926\n",
      "PGL | b0767\n",
      "PGM | b4395 or b3612 or b0755\n",
      "PIt2r | b2987 or b3493\n",
      "PPC | b3956\n",
      "PPCK | b3403\n",
      "PPS | b1702\n",
      "PTAr | b2297 or b2458\n",
      "PYK | b1854 or b1676\n",
      "PYRt2 | \n",
      "RPE | b3386 or b4301\n",
      "RPI | b2914 or b4090\n",
      "SUCCt2_2 | b3528\n",
      "SUCCt3 | \n",
      "SUCDi | b0723 and b0721 and b0722 and b0724\n",
      "SUCOAS | b0728 and b0729\n",
      "TALA | b2464 or b0008\n",
      "THD2 | b1602 and b1603\n",
      "TKT1 | b2935 or b2465\n",
      "TKT2 | b2935 or b2465\n",
      "TPI | b3919\n"
     ]
    }
   ],
   "source": [
    "model = cobra.io.read_sbml_model(\"e_coli_core.xml\")\n",
    "\n",
    "\n",
    "for r in model.reactions:\n",
    "    print(r.id, \"|\", r.gene_reaction_rule)"
   ]
  },
  {
   "cell_type": "code",
   "execution_count": 88,
   "metadata": {},
   "outputs": [],
   "source": [
    "sgd = cobra.flux_analysis.double_gene_deletion(model)"
   ]
  },
  {
   "cell_type": "code",
   "execution_count": 90,
   "metadata": {},
   "outputs": [],
   "source": [
    "fba = model.optimize()"
   ]
  },
  {
   "cell_type": "code",
   "execution_count": 105,
   "metadata": {},
   "outputs": [
    {
     "name": "stdout",
     "output_type": "stream",
     "text": [
      "-1000.0\n"
     ]
    }
   ],
   "source": [
    "model = cobra.io.read_sbml_model(\"e_coli_core.xml\")\n",
    "print(model.reactions.EX_o2_e.lower_bound)"
   ]
  },
  {
   "cell_type": "code",
   "execution_count": 110,
   "metadata": {},
   "outputs": [
    {
     "data": {
      "image/png": "[encoded data removed]",
      "text/plain": [
       "<Figure size 640x480 with 1 Axes>"
      ]
     },
     "metadata": {},
     "output_type": "display_data"
    }
   ],
   "source": [
    "\n",
    "fba_ref=model.optimize()\n",
    "\n",
    "for o in range(10):\n",
    "    model = cobra.io.read_sbml_model(\"e_coli_core.xml\")\n",
    "    model.reactions.EX_o2_e.lower_bound=-(o+1)*100\n",
    "    T=[0]*100\n",
    "    \n",
    "    for i in range(100):\n",
    "        biomass = i*fba_ref.objective_value/100\n",
    "        model.reactions.BIOMASS_Ecoli_core_w_GAM.upper_bound=biomass+0.0001\n",
    "        model.reactions.BIOMASS_Ecoli_core_w_GAM.lower_bound=biomass-0.0001\n",
    "        model.objective = model.reactions.EX_etoh_e.flux_expression\n",
    "        fba = model.optimize()\n",
    "        T[i] = fba.objective_value\n",
    "    plt.plot(T)\n",
    "\n",
    "\n",
    "plt.show()"
   ]
  },
  {
   "cell_type": "code",
   "execution_count": 87,
   "metadata": {},
   "outputs": [
    {
     "name": "stdout",
     "output_type": "stream",
     "text": [
      "{'b3733'} 0.3742298749331101\n",
      "{'b1136'} -3.340138673806149e-17\n"
     ]
    }
   ],
   "source": [
    "for i in range(len(sgd.get(\"ids\"))):\n",
    "    if sgd.get(\"growth\").get(i)<0.9*fba_ref.objective_value:\n",
    "        print(sgd.get(\"ids\").get(i), sgd.get(\"growth\").get(i))"
   ]
  },
  {
   "cell_type": "code",
   "execution_count": 83,
   "metadata": {},
   "outputs": [
    {
     "data": {
      "text/html": [
       "<div>\n",
       "<style scoped>\n",
       "    .dataframe tbody tr th:only-of-type {\n",
       "        vertical-align: middle;\n",
       "    }\n",
       "\n",
       "    .dataframe tbody tr th {\n",
       "        vertical-align: top;\n",
       "    }\n",
       "\n",
       "    .dataframe thead th {\n",
       "        text-align: right;\n",
       "    }\n",
       "</style>\n",
       "<table border=\"1\" class=\"dataframe\">\n",
       "  <thead>\n",
       "    <tr style=\"text-align: right;\">\n",
       "      <th></th>\n",
       "      <th>ids</th>\n",
       "      <th>growth</th>\n",
       "      <th>status</th>\n",
       "    </tr>\n",
       "  </thead>\n",
       "  <tbody>\n",
       "    <tr>\n",
       "      <th>0</th>\n",
       "      <td>{b1611}</td>\n",
       "      <td>8.739215e-01</td>\n",
       "      <td>optimal</td>\n",
       "    </tr>\n",
       "    <tr>\n",
       "      <th>1</th>\n",
       "      <td>{b0811}</td>\n",
       "      <td>8.739215e-01</td>\n",
       "      <td>optimal</td>\n",
       "    </tr>\n",
       "    <tr>\n",
       "      <th>2</th>\n",
       "      <td>{b2914}</td>\n",
       "      <td>8.739215e-01</td>\n",
       "      <td>optimal</td>\n",
       "    </tr>\n",
       "    <tr>\n",
       "      <th>3</th>\n",
       "      <td>{b1621}</td>\n",
       "      <td>8.739215e-01</td>\n",
       "      <td>optimal</td>\n",
       "    </tr>\n",
       "    <tr>\n",
       "      <th>4</th>\n",
       "      <td>{b1136}</td>\n",
       "      <td>-1.347507e-15</td>\n",
       "      <td>optimal</td>\n",
       "    </tr>\n",
       "    <tr>\n",
       "      <th>...</th>\n",
       "      <td>...</td>\n",
       "      <td>...</td>\n",
       "      <td>...</td>\n",
       "    </tr>\n",
       "    <tr>\n",
       "      <th>132</th>\n",
       "      <td>{b1297}</td>\n",
       "      <td>8.739215e-01</td>\n",
       "      <td>optimal</td>\n",
       "    </tr>\n",
       "    <tr>\n",
       "      <th>133</th>\n",
       "      <td>{b3739}</td>\n",
       "      <td>8.739215e-01</td>\n",
       "      <td>optimal</td>\n",
       "    </tr>\n",
       "    <tr>\n",
       "      <th>134</th>\n",
       "      <td>{b0116}</td>\n",
       "      <td>7.823511e-01</td>\n",
       "      <td>optimal</td>\n",
       "    </tr>\n",
       "    <tr>\n",
       "      <th>135</th>\n",
       "      <td>{b3386}</td>\n",
       "      <td>8.739215e-01</td>\n",
       "      <td>optimal</td>\n",
       "    </tr>\n",
       "    <tr>\n",
       "      <th>136</th>\n",
       "      <td>{b2285}</td>\n",
       "      <td>2.116629e-01</td>\n",
       "      <td>optimal</td>\n",
       "    </tr>\n",
       "  </tbody>\n",
       "</table>\n",
       "<p>137 rows × 3 columns</p>\n",
       "</div>"
      ],
      "text/plain": [
       "         ids        growth   status\n",
       "0    {b1611}  8.739215e-01  optimal\n",
       "1    {b0811}  8.739215e-01  optimal\n",
       "2    {b2914}  8.739215e-01  optimal\n",
       "3    {b1621}  8.739215e-01  optimal\n",
       "4    {b1136} -1.347507e-15  optimal\n",
       "..       ...           ...      ...\n",
       "132  {b1297}  8.739215e-01  optimal\n",
       "133  {b3739}  8.739215e-01  optimal\n",
       "134  {b0116}  7.823511e-01  optimal\n",
       "135  {b3386}  8.739215e-01  optimal\n",
       "136  {b2285}  2.116629e-01  optimal\n",
       "\n",
       "[137 rows x 3 columns]"
      ]
     },
     "execution_count": 83,
     "metadata": {},
     "output_type": "execute_result"
    }
   ],
   "source": [
    "sgd"
   ]
  },
  {
   "cell_type": "markdown",
   "metadata": {
    "collapsed": true
   },
   "source": [
    "# Genetic manipulations… and metabolic engineering"
   ]
  },
  {
   "cell_type": "markdown",
   "metadata": {
    "collapsed": true
   },
   "source": [
    "*Exercise 3* \n",
    "\n",
    "We will now work with the ecoli test model from cobrapy that contains some genetic reaction rules. `model = cobra.test.create_test_model(‘ecoli’)`\n",
    "1. Print the reaction rule of all the reactions.\n",
    "2. Perform a single deletion analysis (cobra.flux_analysis.single_deletion) and report all the gene such that, when knocked out, the biomass production is less than 90% its optimal value."
   ]
  },
  {
   "cell_type": "code",
   "execution_count": null,
   "metadata": {},
   "outputs": [],
   "source": []
  },
  {
   "cell_type": "markdown",
   "metadata": {
    "collapsed": true
   },
   "source": [
    "*Exercise 4*\n",
    "\n",
    "This question can be tested by using any available e. coli model…\n",
    "What is the optimal O2 condition if we want to produce alcohol with e. coli ? More precisely, we want to keep e. coli alive (so biomass>90% from its optimal), optimize the ethanol production and change the O2 rate exchange to see when the ethanol production is maximal…"
   ]
  },
  {
   "cell_type": "code",
   "execution_count": null,
   "metadata": {},
   "outputs": [],
   "source": []
  },
  {
   "cell_type": "markdown",
   "metadata": {
    "collapsed": true
   },
   "source": [
    "# Metabolism and cancer…\n",
    "\n",
    "There exists two main models repositories containing metabolic networks relative to human health : Virtual Metabolic Human, VMH ([https://vmh.uni.lu/](https://vmh.uni.lu/)) and Human Metabolic Atlas, HMA ([http://www.metabolicatlas.org/](http://www.metabolicatlas.org/)). Take a short tour on these repositories. "
   ]
  },
  {
   "cell_type": "markdown",
   "metadata": {
    "collapsed": true
   },
   "source": [
    "*Exercise 5*\n",
    "\n",
    "Consider first the HMA. Take 3 models of distinct cancer and compare the models by constructing Venn diagrams comparing the common reactions, the common genes,…\n",
    "\n",
    "Notice that you will find three models from HMA in the moodle web site formatted in JSON exchange format.\n",
    "The models can be loaded in python by using the cobra.io.load_json_model function.\n",
    "\n",
    "Venn diagrams can be displayed by using the matplotlib-venn library (see [https://pypi.org/project/matplotlib-venn/](https://pypi.org/project/matplotlib-venn/) for details)."
   ]
  },
  {
   "cell_type": "code",
   "execution_count": null,
   "metadata": {
    "collapsed": true
   },
   "outputs": [],
   "source": []
  },
  {
   "cell_type": "markdown",
   "metadata": {
    "collapsed": true
   },
   "source": [
    "*Antimetabolites* are small molecules that mimics the chemical affinities of a given metabolite except, such taking its place in the chemical reactions, excepts that it blocks the functionality of the metabolite (i.e., the chemical reaction has no effects). They are commonly used as efficient cancer treatment strategies. It is thus possible, in a in silico study to block all reactions having a given metabolite as substrate and to report the metabolite having an effect on the cell growth."
   ]
  },
  {
   "cell_type": "markdown",
   "metadata": {
    "collapsed": true
   },
   "source": [
    "*Exercise 6*\n",
    "\n",
    "Consider the e coli model of BiGG and find antimetabolites having a putative effect. "
   ]
  },
  {
   "cell_type": "code",
   "execution_count": null,
   "metadata": {},
   "outputs": [],
   "source": []
  },
  {
   "cell_type": "markdown",
   "metadata": {
    "collapsed": true
   },
   "source": [
    "*Exercise 7*\n",
    "\n",
    "The repository VMH contains the description of different diet conditions. Take some microbiote models from the download section and test the effect of different diet conditions on the biomass production and on the cholesterol export."
   ]
  },
  {
   "cell_type": "code",
   "execution_count": null,
   "metadata": {},
   "outputs": [],
   "source": []
  }
 ],
 "metadata": {
  "kernelspec": {
   "display_name": "Python 3 (ipykernel)",
   "language": "python",
   "name": "python3"
  },
  "language_info": {
   "codemirror_mode": {
    "name": "ipython",
    "version": 3
   },
   "file_extension": ".py",
   "mimetype": "text/x-python",
   "name": "python",
   "nbconvert_exporter": "python",
   "pygments_lexer": "ipython3",
   "version": "3.11.1"
  }
 },
 "nbformat": 4,
 "nbformat_minor": 2
}
