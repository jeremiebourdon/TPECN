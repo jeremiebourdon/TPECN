{
 "cells": [
  {
   "cell_type": "code",
   "execution_count": null,
   "metadata": {},
   "outputs": [],
   "source": [
    "# Démo BN\n",
    "\n",
    "g1 = True\n",
    "g2 = False\n",
    "g3 = True\n",
    "g4 = False\n",
    "\n",
    "g1new = g1\n",
    "g2new = g2\n",
    "g3new = g3\n",
    "g4new = g4\n",
    "\n",
    "if (g1):\n",
    "    g2new = True\n",
    "    g1new = False\n",
    "    \n",
    "if (g1 and g2):\n",
    "    g4new = False\n",
    "    g1new = False\n",
    "    g2new = False\n",
    "\n",
    "if (g2):\n",
    "    g3new = True\n",
    "    g2new = False\n",
    "    \n",
    "if (g3):\n",
    "    g4new = True\n",
    "    g3new = False\n",
    "\n",
    "if (g4):\n",
    "    g1new = True\n",
    "    g4new = False\n",
    "\n",
    "g1 = g1new\n",
    "g2 = g2new\n",
    "g3 = g3new\n",
    "g4 = g4new\n",
    "\n",
    "print(g1, g2, g3, g4)"
   ]
  },
  {
   "cell_type": "markdown",
   "metadata": {},
   "source": [
    "# Modèles booléens"
   ]
  },
  {
   "cell_type": "markdown",
   "metadata": {},
   "source": [
    "Reprendre l'exemple de PBN donné en cours et le simuler dans les modes synchrone, puis asynchrone"
   ]
  },
  {
   "cell_type": "code",
   "execution_count": 18,
   "metadata": {},
   "outputs": [
    {
     "data": {
      "image/png": "[encoded data removed]",
      "text/plain": [
       "<matplotlib.figure.Figure at 0x112161d30>"
      ]
     },
     "metadata": {},
     "output_type": "display_data"
    }
   ],
   "source": [
    "import numpy as np\n",
    "import matplotlib.pyplot as plt\n",
    "%matplotlib inline\n",
    "\n",
    "def formate(b):\n",
    "    if b:\n",
    "        return \"1\"\n",
    "    else:\n",
    "        return \"0\"\n",
    "\n",
    "def PBN(X):\n",
    "    T = X.split(\",\")\n",
    "    x1=T[0] == \"1\"\n",
    "    x2=T[1] == \"1\"\n",
    "    x3=T[2] == \"1\"\n",
    "    nb=np.random.rand()\n",
    "    if (nb<0.3):\n",
    "        y1 = (x1 and x2) or (not(x2) and not(x3))\n",
    "    else:\n",
    "        y1 = (not(x1) and x2) or x3\n",
    "    y2 = (x1 and x3) or (not(x1) and x2)\n",
    "    y3 = (x1 and not(x2)) or not(x3)\n",
    "    return formate(y1)+\",\"+formate(y2)+\",\"+formate(y3)\n",
    "\n",
    "#X = \"1,1,0\"\n",
    "#for i in range(20):\n",
    "#    print(X)\n",
    "#    X=PBN(X)\n",
    "\n",
    "# Question : Construire le graphe de transition (utiliser networkx)\n",
    "# On se base sur 10000 trajectoires de longueur 10\n",
    "import networkx as nx\n",
    "\n",
    "G = nx.DiGraph()\n",
    "\n",
    "for n in range(10000):\n",
    "    x1=np.random.rand()<0.5\n",
    "    x2=np.random.rand()<0.5\n",
    "    x3=np.random.rand()<0.5\n",
    "    X = formate(x1)+\",\"+formate(x2)+\",\"+formate(x3)\n",
    "    for k in range(100):\n",
    "        Y=PBN(X)\n",
    "        G.add_edge(X,Y)\n",
    "        X=Y\n",
    "\n",
    "nx.draw_networkx(G)\n",
    "\n"
   ]
  },
  {
   "cell_type": "code",
   "execution_count": 23,
   "metadata": {},
   "outputs": [
    {
     "name": "stdout",
     "output_type": "stream",
     "text": [
      "('0,0,1', '1,0,0')\n",
      "('1,0,0', '0,0,1')\n"
     ]
    }
   ],
   "source": [
    "# Question : trouver les cycles\n",
    "cycles = nx.algorithms.find_cycle(G)\n",
    "for c in cycles:\n",
    "    print(c)"
   ]
  },
  {
   "cell_type": "markdown",
   "metadata": {},
   "source": [
    "# Réseaux bayésiens"
   ]
  },
  {
   "cell_type": "markdown",
   "metadata": {},
   "source": [
    "Voir le tutoriel de pgmpy\n",
    "\n",
    "pip install pgmpy"
   ]
  },
  {
   "cell_type": "code",
   "execution_count": 50,
   "metadata": {
    "collapsed": true
   },
   "outputs": [],
   "source": [
    "# Starting with defining the network structure\n",
    "from pgmpy.models import BayesianModel\n",
    "\n",
    "model = BayesianModel([ ('Nuages', 'Arrosage'), \n",
    "                        ('Nuages', 'Pluie'),\n",
    "                        ('Arrosage', 'HerbeM'),\n",
    "                        ('Pluie', 'HerbeM')])\n"
   ]
  },
  {
   "cell_type": "code",
   "execution_count": 51,
   "metadata": {},
   "outputs": [
    {
     "data": {
      "text/plain": [
       "True"
      ]
     },
     "execution_count": 51,
     "metadata": {},
     "output_type": "execute_result"
    }
   ],
   "source": [
    "from pgmpy.factors.discrete import TabularCPD\n",
    "\n",
    "cpd_nuages = TabularCPD(variable='Nuages', variable_card=2,\n",
    "                      values=[[0.3], [0.7]])\n",
    "cpd_arrosage = TabularCPD(variable='Arrosage', variable_card=2,\n",
    "                      values=[[0.5, 0.9], [0.5, 0.1]],\n",
    "                      evidence=['Nuages'], evidence_card=[2])\n",
    "cpd_pluie = TabularCPD(variable='Pluie', variable_card=2,\n",
    "                      values=[[0.8, 0.2], [0.2, 0.8]],\n",
    "                      evidence=['Nuages'], evidence_card=[2])\n",
    "cpd_hm = TabularCPD(variable='HerbeM', variable_card=2,\n",
    "                        values=[[1, 0.1, 0.1, 0.01],\n",
    "                                [0, 0.9, 0.9, 0.99]],\n",
    "                        evidence=['Arrosage', 'Pluie'],\n",
    "                        evidence_card=[2, 2])\n",
    "model.add_cpds(cpd_nuages,cpd_arrosage,cpd_pluie,cpd_hm)\n",
    "model.check_model()"
   ]
  },
  {
   "cell_type": "code",
   "execution_count": 52,
   "metadata": {},
   "outputs": [
    {
     "name": "stdout",
     "output_type": "stream",
     "text": [
      "╒══════════╤═════╕\n",
      "│ Nuages_0 │ 0.3 │\n",
      "├──────────┼─────┤\n",
      "│ Nuages_1 │ 0.7 │\n",
      "╘══════════╧═════╛\n",
      "╒════════════╤══════════╤══════════╕\n",
      "│ Nuages     │ Nuages_0 │ Nuages_1 │\n",
      "├────────────┼──────────┼──────────┤\n",
      "│ Arrosage_0 │ 0.5      │ 0.9      │\n",
      "├────────────┼──────────┼──────────┤\n",
      "│ Arrosage_1 │ 0.5      │ 0.1      │\n",
      "╘════════════╧══════════╧══════════╛\n",
      "╒═════════╤══════════╤══════════╕\n",
      "│ Nuages  │ Nuages_0 │ Nuages_1 │\n",
      "├─────────┼──────────┼──────────┤\n",
      "│ Pluie_0 │ 0.8      │ 0.2      │\n",
      "├─────────┼──────────┼──────────┤\n",
      "│ Pluie_1 │ 0.2      │ 0.8      │\n",
      "╘═════════╧══════════╧══════════╛\n",
      "╒══════════╤════════════╤════════════╤════════════╤════════════╕\n",
      "│ Arrosage │ Arrosage_0 │ Arrosage_0 │ Arrosage_1 │ Arrosage_1 │\n",
      "├──────────┼────────────┼────────────┼────────────┼────────────┤\n",
      "│ Pluie    │ Pluie_0    │ Pluie_1    │ Pluie_0    │ Pluie_1    │\n",
      "├──────────┼────────────┼────────────┼────────────┼────────────┤\n",
      "│ HerbeM_0 │ 1.0        │ 0.1        │ 0.1        │ 0.01       │\n",
      "├──────────┼────────────┼────────────┼────────────┼────────────┤\n",
      "│ HerbeM_1 │ 0.0        │ 0.9        │ 0.9        │ 0.99       │\n",
      "╘══════════╧════════════╧════════════╧════════════╧════════════╛\n"
     ]
    }
   ],
   "source": [
    "for cpd in model.get_cpds():\n",
    "    print(cpd)"
   ]
  },
  {
   "cell_type": "code",
   "execution_count": 54,
   "metadata": {
    "collapsed": true
   },
   "outputs": [],
   "source": [
    "from pgmpy.inference import VariableElimination\n",
    "\n",
    "inference = VariableElimination(model)"
   ]
  },
  {
   "cell_type": "code",
   "execution_count": 59,
   "metadata": {
    "collapsed": true
   },
   "outputs": [],
   "source": [
    "T1=0.99*(0.7*0.1*0.8+0.3*0.5*0.2)"
   ]
  },
  {
   "cell_type": "code",
   "execution_count": 60,
   "metadata": {
    "collapsed": true
   },
   "outputs": [],
   "source": [
    "T2=0.9*(0.7*0.9*0.8+0.3*0.5*0.2)"
   ]
  },
  {
   "cell_type": "code",
   "execution_count": 63,
   "metadata": {},
   "outputs": [],
   "source": [
    "T3=0.9*(0.7*0.1*0.2+0.3*0.5*0.8)"
   ]
  },
  {
   "cell_type": "code",
   "execution_count": 64,
   "metadata": {
    "collapsed": true
   },
   "outputs": [],
   "source": [
    "T4=0*(0.7*0.9*0.2+0.3*0.5*0.8)"
   ]
  },
  {
   "cell_type": "code",
   "execution_count": 65,
   "metadata": {},
   "outputs": [
    {
     "data": {
      "text/plain": [
       "0.6863400000000001"
      ]
     },
     "execution_count": 65,
     "metadata": {},
     "output_type": "execute_result"
    }
   ],
   "source": [
    "T1+T2+T3+T4"
   ]
  },
  {
   "cell_type": "code",
   "execution_count": 66,
   "metadata": {
    "collapsed": true
   },
   "outputs": [],
   "source": [
    "query = inference.query(['HerbeM'])"
   ]
  },
  {
   "cell_type": "code",
   "execution_count": 67,
   "metadata": {},
   "outputs": [
    {
     "name": "stdout",
     "output_type": "stream",
     "text": [
      "╒══════════╤═══════════════╕\n",
      "│ HerbeM   │   phi(HerbeM) │\n",
      "╞══════════╪═══════════════╡\n",
      "│ HerbeM_0 │        0.3137 │\n",
      "├──────────┼───────────────┤\n",
      "│ HerbeM_1 │        0.6863 │\n",
      "╘══════════╧═══════════════╛\n"
     ]
    }
   ],
   "source": [
    "print(query[\"HerbeM\"])"
   ]
  },
  {
   "cell_type": "code",
   "execution_count": 68,
   "metadata": {},
   "outputs": [
    {
     "name": "stdout",
     "output_type": "stream",
     "text": [
      "╒══════════╤═══════════════╕\n",
      "│ Nuages   │   phi(Nuages) │\n",
      "╞══════════╪═══════════════╡\n",
      "│ Nuages_0 │        0.2400 │\n",
      "├──────────┼───────────────┤\n",
      "│ Nuages_1 │        0.7600 │\n",
      "╘══════════╧═══════════════╛\n"
     ]
    }
   ],
   "source": [
    "query = inference.query(['Nuages'],evidence={\"HerbeM\":1})\n",
    "print(query['Nuages'])"
   ]
  },
  {
   "cell_type": "code",
   "execution_count": null,
   "metadata": {
    "collapsed": true
   },
   "outputs": [],
   "source": []
  }
 ],
 "metadata": {
  "kernelspec": {
   "display_name": "Python 3",
   "language": "python",
   "name": "python3"
  },
  "language_info": {
   "codemirror_mode": {
    "name": "ipython",
    "version": 3
   },
   "file_extension": ".py",
   "mimetype": "text/x-python",
   "name": "python",
   "nbconvert_exporter": "python",
   "pygments_lexer": "ipython3",
   "version": "3.7.3"
  }
 },
 "nbformat": 4,
 "nbformat_minor": 2
}
